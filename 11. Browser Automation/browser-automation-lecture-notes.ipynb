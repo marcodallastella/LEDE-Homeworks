{
 "cells": [
  {
   "cell_type": "markdown",
   "id": "86bda04e",
   "metadata": {},
   "source": [
    "# Browser Automation Lecture Notes\n",
    "Date: 2023-07-18\n",
    "\n",
    "We'll use this notebook to work through some examples and showcase some essential functions in Selenium.\n",
    "\n",
    "Rather than basic Selenium, we'll use Selenium Wire, which can be used to intercept API calls/network requests."
   ]
  },
  {
   "cell_type": "code",
   "execution_count": 76,
   "id": "13e488f5",
   "metadata": {},
   "outputs": [
    {
     "name": "stdout",
     "output_type": "stream",
     "text": [
      "Requirement already satisfied: selenium in /Users/leon/miniconda3/lib/python3.7/site-packages (3.141.0)\n",
      "Requirement already satisfied: selenium-wire in /Users/leon/miniconda3/lib/python3.7/site-packages (4.6.2)\n",
      "Requirement already satisfied: chromedriver-binary-auto in /Users/leon/miniconda3/lib/python3.7/site-packages (0.2.6)\n",
      "Requirement already satisfied: urllib3 in /Users/leon/miniconda3/lib/python3.7/site-packages (from selenium) (1.26.9)\n",
      "Requirement already satisfied: pysocks>=1.7.1 in /Users/leon/miniconda3/lib/python3.7/site-packages (from selenium-wire) (1.7.1)\n",
      "Requirement already satisfied: blinker>=1.4 in /Users/leon/miniconda3/lib/python3.7/site-packages (from selenium-wire) (1.4)\n",
      "Requirement already satisfied: brotli>=1.0.9 in /Users/leon/miniconda3/lib/python3.7/site-packages (from selenium-wire) (1.0.9)\n",
      "Requirement already satisfied: pyparsing>=2.4.2 in /Users/leon/miniconda3/lib/python3.7/site-packages (from selenium-wire) (3.0.7)\n",
      "Requirement already satisfied: certifi>=2019.9.11 in /Users/leon/miniconda3/lib/python3.7/site-packages (from selenium-wire) (2022.9.24)\n",
      "Requirement already satisfied: kaitaistruct>=0.7 in /Users/leon/miniconda3/lib/python3.7/site-packages (from selenium-wire) (0.9)\n",
      "Requirement already satisfied: hyperframe>=6.0 in /Users/leon/miniconda3/lib/python3.7/site-packages (from selenium-wire) (6.0.1)\n",
      "Requirement already satisfied: wsproto>=0.14 in /Users/leon/miniconda3/lib/python3.7/site-packages (from selenium-wire) (1.1.0)\n",
      "Requirement already satisfied: pyOpenSSL>=19.1.0 in /Users/leon/miniconda3/lib/python3.7/site-packages (from selenium-wire) (22.0.0)\n",
      "Requirement already satisfied: h2>=4.0 in /Users/leon/miniconda3/lib/python3.7/site-packages (from selenium-wire) (4.1.0)\n",
      "Requirement already satisfied: zstandard>=0.14.1 in /Users/leon/miniconda3/lib/python3.7/site-packages (from selenium-wire) (0.17.0)\n",
      "Requirement already satisfied: pyasn1>=0.3.1 in /Users/leon/miniconda3/lib/python3.7/site-packages (from selenium-wire) (0.4.5)\n",
      "Requirement already satisfied: hpack<5,>=4.0 in /Users/leon/miniconda3/lib/python3.7/site-packages (from h2>=4.0->selenium-wire) (4.0.0)\n",
      "Requirement already satisfied: cryptography>=35.0 in /Users/leon/miniconda3/lib/python3.7/site-packages (from pyOpenSSL>=19.1.0->selenium-wire) (37.0.1)\n",
      "Requirement already satisfied: h11<1,>=0.9.0 in /Users/leon/miniconda3/lib/python3.7/site-packages (from wsproto>=0.14->selenium-wire) (0.13.0)\n",
      "Requirement already satisfied: cffi>=1.12 in /Users/leon/miniconda3/lib/python3.7/site-packages (from cryptography>=35.0->pyOpenSSL>=19.1.0->selenium-wire) (1.15.0)\n",
      "Requirement already satisfied: typing-extensions in /Users/leon/miniconda3/lib/python3.7/site-packages (from h11<1,>=0.9.0->wsproto>=0.14->selenium-wire) (3.7.4.3)\n",
      "Requirement already satisfied: pycparser in /Users/leon/miniconda3/lib/python3.7/site-packages (from cffi>=1.12->cryptography>=35.0->pyOpenSSL>=19.1.0->selenium-wire) (2.21)\n"
     ]
    }
   ],
   "source": [
    "!pip install selenium selenium-wire chromedriver-binary-auto"
   ]
  },
  {
   "cell_type": "code",
   "execution_count": 78,
   "id": "3c4fdd7b",
   "metadata": {},
   "outputs": [],
   "source": [
    "import os\n",
    "import random\n",
    "import time\n",
    "\n",
    "from seleniumwire import webdriver\n",
    "from selenium.webdriver.common.by import By\n",
    "from selenium.webdriver.common.action_chains import ActionChains\n",
    "from selenium.webdriver.common.keys import Keys\n",
    "from selenium.webdriver.support.ui import WebDriverWait\n",
    "from selenium.webdriver.support import expected_conditions as EC\n",
    "\n",
    "from selenium.common.exceptions import (\n",
    "    MoveTargetOutOfBoundsException,\n",
    "    TimeoutException,\n",
    "    WebDriverException,\n",
    ")\n",
    "\n",
    "import chromedriver_binary"
   ]
  },
  {
   "cell_type": "code",
   "execution_count": 79,
   "id": "3eddd175",
   "metadata": {},
   "outputs": [],
   "source": [
    "os.makedirs('data/', exist_ok=True)"
   ]
  },
  {
   "cell_type": "code",
   "execution_count": 84,
   "id": "2dddc486",
   "metadata": {},
   "outputs": [],
   "source": [
    "def open_browser():\n",
    "    \"\"\"\n",
    "    Opens a new automated browser window with all tell-tales of automated browser disabled\n",
    "    \"\"\"\n",
    "    options = webdriver.ChromeOptions()\n",
    "    options.add_argument(\"start-maximized\")\n",
    "    \n",
    "    # remove all signs of this being an automated browser\n",
    "    options.add_argument('--disable-blink-features=AutomationControlled')\n",
    "    options.add_experimental_option(\"excludeSwitches\", [\"enable-automation\"])\n",
    "    options.add_experimental_option('useAutomationExtension', False)\n",
    "\n",
    "    # open the browser with the new options\n",
    "    driver = webdriver.Chrome(options=options)\n",
    "    return driver"
   ]
  },
  {
   "cell_type": "code",
   "execution_count": 85,
   "id": "1a1b8eb3",
   "metadata": {},
   "outputs": [],
   "source": [
    "driver = open_browser()"
   ]
  },
  {
   "cell_type": "code",
   "execution_count": 86,
   "id": "aba745a4",
   "metadata": {},
   "outputs": [],
   "source": [
    "url = 'https://amazon.com'\n",
    "driver.get(url)"
   ]
  },
  {
   "cell_type": "markdown",
   "id": "8232b625",
   "metadata": {},
   "source": [
    "## XPATH\n",
    "You learned about beautifulSoup to work with HTML...\n",
    "\n",
    "Xpath is another way to donavigating hierarchical structures of HTML and SVG\n",
    "\n",
    "It's fast, versatile, and can be used in the developer console and in any computing language."
   ]
  },
  {
   "cell_type": "markdown",
   "id": "2cfe1a48",
   "metadata": {},
   "source": [
    "## Using XPATH\n",
    "You can test xpaths in the devloper tools under the `console` tab using the function `$x()`. Read about that function [here](https://developer.chrome.com/docs/devtools/console/utilities/#xpath-function).\n",
    "\n",
    "\n",
    "You can use Selenium's `find_element` [function](https://selenium-python.readthedocs.io/locating-elements.html?highlight=find_element#locating-elements) to find the search box on Amazon site. It'll return the first match to whatever criteria you use.\n",
    "\n",
    "You can use whichever `By` [option](https://selenium-python.readthedocs.io/api.html?highlight=By#locate-elements-by) you feel most comfortable. This includes Xpath, but also any kind of CSS selector."
   ]
  },
  {
   "cell_type": "markdown",
   "id": "a7de9e13",
   "metadata": {},
   "source": [
    "Example of an xpath!\n",
    "\n",
    ".//input[@aria-label=\"Search Amazon\"]"
   ]
  },
  {
   "cell_type": "code",
   "execution_count": 89,
   "id": "407e58b8",
   "metadata": {},
   "outputs": [
    {
     "data": {
      "text/plain": [
       "[<selenium.webdriver.remote.webelement.WebElement (session=\"978e888df1c8ef34b806ae221a1ec784\", element=\"71C0C108C87DE4A043A13AB5DDF3723D_element_224\")>,\n",
       " <selenium.webdriver.remote.webelement.WebElement (session=\"978e888df1c8ef34b806ae221a1ec784\", element=\"71C0C108C87DE4A043A13AB5DDF3723D_element_410\")>]"
      ]
     },
     "execution_count": 89,
     "metadata": {},
     "output_type": "execute_result"
    }
   ],
   "source": [
    "# here is another way to do the same thing. Note that it returns multiple results\n",
    "search_box = driver.find_elements(\n",
    "    By.CLASS_NAME, \n",
    "    'nav-input'\n",
    ")\n",
    "search_box"
   ]
  },
  {
   "cell_type": "code",
   "execution_count": 94,
   "id": "f0482f7a",
   "metadata": {},
   "outputs": [
    {
     "data": {
      "text/plain": [
       "<selenium.webdriver.remote.webelement.WebElement (session=\"978e888df1c8ef34b806ae221a1ec784\", element=\"93A2129CC1545A79D46F8A8DD5F1C215_element_499\")>"
      ]
     },
     "execution_count": 94,
     "metadata": {},
     "output_type": "execute_result"
    }
   ],
   "source": [
    "search_box = driver.find_element(\n",
    "    By.XPATH, \n",
    "    './/input[@aria-label=\"Search Amazon\"]'\n",
    ")\n",
    "search_box"
   ]
  },
  {
   "cell_type": "code",
   "execution_count": 97,
   "id": "2934f057",
   "metadata": {},
   "outputs": [],
   "source": [
    "search_term = 'womens shirt'\n",
    "search_box.send_keys(search_term)"
   ]
  },
  {
   "cell_type": "code",
   "execution_count": 10,
   "id": "18df5c36",
   "metadata": {},
   "outputs": [],
   "source": [
    "def press_enter(driver):\n",
    "    \"\"\"\n",
    "    Sends the ENTER to a webdriver instance.\n",
    "    \"\"\"\n",
    "    actions = ActionChains(driver)\n",
    "    actions.send_keys(Keys.ENTER)\n",
    "    actions.perform()"
   ]
  },
  {
   "cell_type": "code",
   "execution_count": 100,
   "id": "54469b13",
   "metadata": {},
   "outputs": [],
   "source": [
    "press_enter(driver)"
   ]
  },
  {
   "cell_type": "markdown",
   "id": "5faa8a52",
   "metadata": {},
   "source": [
    "### Parse the products\n",
    "\n",
    "For each product, let's print the brand name:\n",
    "\n",
    "Notice we're using `find_elements` (plural), this will return a list, rather than the first element."
   ]
  },
  {
   "cell_type": "code",
   "execution_count": 101,
   "id": "1b9796bb",
   "metadata": {},
   "outputs": [
    {
     "data": {
      "text/plain": [
       "60"
      ]
     },
     "execution_count": 101,
     "metadata": {},
     "output_type": "execute_result"
    }
   ],
   "source": [
    "product_tiles = driver.find_elements(\n",
    "    By.XPATH, \n",
    "    './/div[contains(@cel_widget_id, \"MAIN-SEARCH_RESULTS-\")]' # the contains syntac allows a substring match\n",
    ")\n",
    "len(product_tiles)"
   ]
  },
  {
   "cell_type": "code",
   "execution_count": 103,
   "id": "7c4a09f6",
   "metadata": {},
   "outputs": [
    {
     "data": {
      "text/plain": [
       "\"Best Seller\\n+57 colors/patterns\\nFeatured from Amazon brands\\nAmazon Essentials\\nWomen's Classic-Fit Short-Sleeve V-Neck T-Shirt, (Available in Plus Size), Multipacks\\n42,894\\n2K+ bought in past month\\n$21\\n20\\nFREE delivery Sun, Jul 23 on $25 of items shipped by Amazon\\nOr fastest delivery Fri, Jul 21\\nPrime Try Before You Buy\\nAmazon brand\""
      ]
     },
     "execution_count": 103,
     "metadata": {},
     "output_type": "execute_result"
    }
   ],
   "source": [
    "product_tiles[0].text"
   ]
  },
  {
   "cell_type": "markdown",
   "id": "21df89ce",
   "metadata": {},
   "source": [
    "Let's iterate through each product and print the brand name, which is saved as the only header (h2) in the element:"
   ]
  },
  {
   "cell_type": "code",
   "execution_count": 104,
   "id": "57a24ac6",
   "metadata": {},
   "outputs": [
    {
     "name": "stdout",
     "output_type": "stream",
     "text": [
      "Amazon Essentials\n",
      "Ladiyo\n",
      "Amazon Essentials\n",
      "Hanes\n",
      "Amazon Essentials\n",
      "Blooming Jelly\n",
      "Lunivop\n",
      "Hotouch\n",
      "ayreus\n",
      "Hanes\n",
      "Amazon Essentials\n",
      "LIYOHON\n",
      "LIOFOER\n",
      "ORANDESIGNE\n",
      "NANYUAYA\n",
      "Amazon Essentials\n",
      "Amazon Essentials\n",
      "PIIRESO\n",
      "ayreus\n",
      "LAISHEN\n",
      "APOFER\n",
      "Cicy Bell\n",
      "Hanes\n",
      "GAP\n",
      "Amazon Essentials\n",
      "Adibosy\n",
      "Bestbee\n",
      "SimpleFun\n",
      "IWOLLENCE\n",
      "Hanes\n",
      "Amazon Essentials\n",
      "Amazon Essentials\n",
      "Dokotoo\n",
      "Hanes\n",
      "SheIn\n",
      "MIHOLL\n",
      "Micoson\n",
      "Amazon Essentials\n",
      "Amazon Essentials\n",
      "The Drop\n",
      "Anymiss\n",
      "Hanes\n",
      "Bealatt\n",
      "Under Armour\n",
      "PRETTYGARDEN\n",
      "Carhartt\n",
      "Hanes\n",
      "Amazon Essentials\n",
      "Amazon Essentials\n",
      "Champion\n",
      "ETCYY\n",
      "ETCYY\n",
      "DittyandVibe\n",
      "Amazon Essentials\n",
      "Blooming Jelly\n",
      "Amazon Essentials\n",
      "Hanes\n",
      "Hanes\n",
      "Under Armour\n",
      "Nautica\n"
     ]
    }
   ],
   "source": [
    "for product in product_tiles:\n",
    "    print(product.find_element(\n",
    "        By.TAG_NAME, 'h2'\n",
    "    ).text)"
   ]
  },
  {
   "cell_type": "markdown",
   "id": "103eae3f",
   "metadata": {},
   "source": [
    "Although we did this all using Selenium, it's better to save the page source and then parse the saved results in BeautifulSoup, lxml, or whatever parsing software you prefer."
   ]
  },
  {
   "cell_type": "markdown",
   "id": "b34a404f",
   "metadata": {},
   "source": [
    "### Annotate the elements we find\n",
    "Let's find all the ads, and highlight them red on the page.\n",
    "\n",
    "You can \"inject\" attributes into elements, including style attributes."
   ]
  },
  {
   "cell_type": "code",
   "execution_count": 106,
   "id": "36b75c42",
   "metadata": {},
   "outputs": [],
   "source": [
    "def stain(driver, elem, color = 'red'):\n",
    "    \"\"\"\n",
    "    Injects a style attribute to stain `elem` the `color` red.\n",
    "    \"\"\"\n",
    "    style = f\"background-color: {color} !important; \"\\\n",
    "                    \"transition: all 0.5s linear;\"\n",
    "    driver.execute_script(\n",
    "            f\"arguments[0].setAttribute('style','{style}')\", elem\n",
    "    )"
   ]
  },
  {
   "cell_type": "code",
   "execution_count": 107,
   "id": "3c003f5f",
   "metadata": {},
   "outputs": [],
   "source": [
    "ads = driver.find_elements(\n",
    "    By.XPATH, \n",
    "    # you can use XPATH to specify the attributes of the children of the node you want...\n",
    "    './/div[@data-asin and .//a[@aria-label=\"View Sponsored information or leave ad feedback\"]]'\n",
    ")"
   ]
  },
  {
   "cell_type": "code",
   "execution_count": 108,
   "id": "e6b82ef0",
   "metadata": {},
   "outputs": [
    {
     "data": {
      "text/plain": [
       "13"
      ]
     },
     "execution_count": 108,
     "metadata": {},
     "output_type": "execute_result"
    }
   ],
   "source": [
    "len(ads)"
   ]
  },
  {
   "cell_type": "code",
   "execution_count": 109,
   "id": "8d9a1db6",
   "metadata": {},
   "outputs": [],
   "source": [
    "for elem in ads:\n",
    "    stain(driver, elem)"
   ]
  },
  {
   "cell_type": "markdown",
   "id": "de76b189",
   "metadata": {},
   "source": [
    "### Get height of document"
   ]
  },
  {
   "cell_type": "code",
   "execution_count": 17,
   "id": "72f173e6",
   "metadata": {},
   "outputs": [],
   "source": [
    "import pandas as pd"
   ]
  },
  {
   "cell_type": "code",
   "execution_count": 18,
   "id": "e4ace111",
   "metadata": {},
   "outputs": [],
   "source": [
    "height = driver.execute_script(\"return document.body.scrollHeight\")"
   ]
  },
  {
   "cell_type": "code",
   "execution_count": 19,
   "id": "c65a7940",
   "metadata": {},
   "outputs": [
    {
     "data": {
      "text/plain": [
       "15187"
      ]
     },
     "execution_count": 19,
     "metadata": {},
     "output_type": "execute_result"
    }
   ],
   "source": [
    "height"
   ]
  },
  {
   "cell_type": "markdown",
   "id": "c41f9d67",
   "metadata": {},
   "source": [
    "Get the coorindates and size of each element using the `rect` function."
   ]
  },
  {
   "cell_type": "code",
   "execution_count": 20,
   "id": "31b2ead4",
   "metadata": {},
   "outputs": [],
   "source": [
    "ad_metadata = []\n",
    "for elem in ads:\n",
    "    if elem.is_displayed(): # use this function to only analyze visable elements\n",
    "        ad_metadata.append(elem.rect)"
   ]
  },
  {
   "cell_type": "code",
   "execution_count": 21,
   "id": "5afcb8b0",
   "metadata": {},
   "outputs": [],
   "source": [
    "df = pd.DataFrame(ad_metadata)"
   ]
  },
  {
   "cell_type": "code",
   "execution_count": 22,
   "id": "668b8cce",
   "metadata": {},
   "outputs": [],
   "source": [
    "df['how_far_down'] = df['y'] / height"
   ]
  },
  {
   "cell_type": "code",
   "execution_count": 23,
   "id": "06056c2e",
   "metadata": {},
   "outputs": [
    {
     "data": {
      "text/plain": [
       "0.033690    3\n",
       "0.241418    2\n",
       "0.286289    2\n",
       "0.329579    2\n",
       "0.196548    1\n",
       "0.122904    1\n",
       "Name: how_far_down, dtype: int64"
      ]
     },
     "execution_count": 23,
     "metadata": {},
     "output_type": "execute_result"
    }
   ],
   "source": [
    "df.how_far_down.value_counts()"
   ]
  },
  {
   "cell_type": "markdown",
   "id": "5ca3128a",
   "metadata": {},
   "source": [
    "### Save receipts"
   ]
  },
  {
   "cell_type": "code",
   "execution_count": 105,
   "id": "80e0884f",
   "metadata": {},
   "outputs": [],
   "source": [
    "# how to save what the emulator sees\n",
    "source = driver.page_source\n",
    "with open('data/amazon_selenium_women_sshirts.html', 'w') as f:\n",
    "    f.write(source)"
   ]
  },
  {
   "cell_type": "code",
   "execution_count": 25,
   "id": "e33a076e",
   "metadata": {},
   "outputs": [
    {
     "data": {
      "text/plain": [
       "True"
      ]
     },
     "execution_count": 25,
     "metadata": {},
     "output_type": "execute_result"
    }
   ],
   "source": [
    "# just what's visible\n",
    "driver.save_screenshot('data/amazon_selenium_test.png')"
   ]
  },
  {
   "cell_type": "markdown",
   "id": "fd400d35",
   "metadata": {},
   "source": [
    "There's are ways to do a full screen screenshot, but none of my function seem too work. Can you take a full-screenshot?"
   ]
  },
  {
   "cell_type": "markdown",
   "id": "844168b6",
   "metadata": {},
   "source": [
    "### Parsing the results however you like\n",
    "For me it means using lxml, but you can do this same thing in BeautifulSoup, and I encourage you do so..."
   ]
  },
  {
   "cell_type": "code",
   "execution_count": 41,
   "id": "bd60df79",
   "metadata": {},
   "outputs": [],
   "source": [
    "from lxml import etree"
   ]
  },
  {
   "cell_type": "code",
   "execution_count": 48,
   "id": "1507e08c",
   "metadata": {},
   "outputs": [],
   "source": [
    "dom = etree.HTML(open('data/amazon_selenium_test.html').read())"
   ]
  },
  {
   "cell_type": "code",
   "execution_count": 67,
   "id": "2c188a63",
   "metadata": {},
   "outputs": [
    {
     "data": {
      "text/plain": [
       "<Element div at 0x7f77f38bb408>"
      ]
     },
     "execution_count": 67,
     "metadata": {},
     "output_type": "execute_result"
    }
   ],
   "source": [
    "result"
   ]
  },
  {
   "cell_type": "code",
   "execution_count": 73,
   "id": "00ae9ecc",
   "metadata": {},
   "outputs": [],
   "source": [
    "product_metadata = []\n",
    "for result in dom.xpath('.//div[contains(@cel_widget_id, \"MAIN-SEARCH_RESULTS\")]'):\n",
    "    # this is where you can parse as many fields as you like.\n",
    "    brand, product_name = result.xpath('.//h2//text()')[:2]\n",
    "    product_metadata.append({\n",
    "        'brand': brand,\n",
    "        'product_name': product_name\n",
    "    })"
   ]
  },
  {
   "cell_type": "code",
   "execution_count": 75,
   "id": "3dab1008",
   "metadata": {},
   "outputs": [
    {
     "data": {
      "text/html": [
       "<div>\n",
       "<style scoped>\n",
       "    .dataframe tbody tr th:only-of-type {\n",
       "        vertical-align: middle;\n",
       "    }\n",
       "\n",
       "    .dataframe tbody tr th {\n",
       "        vertical-align: top;\n",
       "    }\n",
       "\n",
       "    .dataframe thead th {\n",
       "        text-align: right;\n",
       "    }\n",
       "</style>\n",
       "<table border=\"1\" class=\"dataframe\">\n",
       "  <thead>\n",
       "    <tr style=\"text-align: right;\">\n",
       "      <th></th>\n",
       "      <th>brand</th>\n",
       "      <th>product_name</th>\n",
       "    </tr>\n",
       "  </thead>\n",
       "  <tbody>\n",
       "    <tr>\n",
       "      <td>0</td>\n",
       "      <td>Amazon Essentials</td>\n",
       "      <td>Men's Short-Sleeve Chambray Shirt</td>\n",
       "    </tr>\n",
       "    <tr>\n",
       "      <td>1</td>\n",
       "      <td>Eycuro</td>\n",
       "      <td>Mens Henley T-Shirts Summer Short Sleeve 3/4 B...</td>\n",
       "    </tr>\n",
       "    <tr>\n",
       "      <td>2</td>\n",
       "      <td>JMIERR</td>\n",
       "      <td>Men's Linen Shirts Casual Long Sleeve Button-D...</td>\n",
       "    </tr>\n",
       "    <tr>\n",
       "      <td>3</td>\n",
       "      <td>COOFANDY</td>\n",
       "      <td>Men's Casual Short Sleeve Button Down Shirt Te...</td>\n",
       "    </tr>\n",
       "    <tr>\n",
       "      <td>4</td>\n",
       "      <td>Gildan</td>\n",
       "      <td>Men's Crew T-Shirts, Multipack, Style G1100</td>\n",
       "    </tr>\n",
       "    <tr>\n",
       "      <td>5</td>\n",
       "      <td>Carhartt</td>\n",
       "      <td>Men's Loose Fit Heavyweight Short-Sleeve Pocke...</td>\n",
       "    </tr>\n",
       "    <tr>\n",
       "      <td>6</td>\n",
       "      <td>Gildan</td>\n",
       "      <td>Men's V-neck T-shirts, Multipack, Style G1103</td>\n",
       "    </tr>\n",
       "    <tr>\n",
       "      <td>7</td>\n",
       "      <td>Hanes</td>\n",
       "      <td>Mens Beefyt T-Shirt, Classic Heavyweight Cotto...</td>\n",
       "    </tr>\n",
       "    <tr>\n",
       "      <td>8</td>\n",
       "      <td>Amazon Essentials</td>\n",
       "      <td>Men's Short-Sleeve Crewneck T-Shirt, Pack of 2</td>\n",
       "    </tr>\n",
       "    <tr>\n",
       "      <td>9</td>\n",
       "      <td>Nautica</td>\n",
       "      <td>Men's Solid Crew Neck Short-Sleeve Pocket T-Shirt</td>\n",
       "    </tr>\n",
       "    <tr>\n",
       "      <td>10</td>\n",
       "      <td>Amazon Essentials</td>\n",
       "      <td>Men's Slim-Fit Cotton Pique Polo Shirt</td>\n",
       "    </tr>\n",
       "    <tr>\n",
       "      <td>11</td>\n",
       "      <td>KLIEGOU</td>\n",
       "      <td>Men's V Neck T Shirts - Casual Stylish Fitted ...</td>\n",
       "    </tr>\n",
       "    <tr>\n",
       "      <td>12</td>\n",
       "      <td>M MAELREG</td>\n",
       "      <td>Men's Golf Polo Shirts Short Sleeve Striped Pe...</td>\n",
       "    </tr>\n",
       "    <tr>\n",
       "      <td>13</td>\n",
       "      <td>MAGCOMSEN</td>\n",
       "      <td>Men's Short Sleeve Polo Golf Shirts 3-Button M...</td>\n",
       "    </tr>\n",
       "    <tr>\n",
       "      <td>14</td>\n",
       "      <td>Real Essentials</td>\n",
       "      <td>5 Pack: Men’s Dry-Fit Moisture Wicking Active ...</td>\n",
       "    </tr>\n",
       "    <tr>\n",
       "      <td>15</td>\n",
       "      <td>Amazon Essentials</td>\n",
       "      <td>Men's Regular-Fit Short-Sleeve Print Shirt</td>\n",
       "    </tr>\n",
       "    <tr>\n",
       "      <td>16</td>\n",
       "      <td>COOFANDY</td>\n",
       "      <td>Men's Cotton Linen Henley Shirt Long Sleeve Hi...</td>\n",
       "    </tr>\n",
       "    <tr>\n",
       "      <td>17</td>\n",
       "      <td>Hanes</td>\n",
       "      <td>Men's EcoSmart Polo Shirt, Sport Shirts for Me...</td>\n",
       "    </tr>\n",
       "    <tr>\n",
       "      <td>18</td>\n",
       "      <td>KLIEGOU</td>\n",
       "      <td>Men's T-Shirts - Premium Cotton Crew Neck Tees...</td>\n",
       "    </tr>\n",
       "    <tr>\n",
       "      <td>19</td>\n",
       "      <td>VEBOON</td>\n",
       "      <td>Polo Shirts for Men Casual Short Sleeve Perfor...</td>\n",
       "    </tr>\n",
       "    <tr>\n",
       "      <td>20</td>\n",
       "      <td>VATPAVE</td>\n",
       "      <td>Mens Striped Summer Shirt Casual Button Down S...</td>\n",
       "    </tr>\n",
       "    <tr>\n",
       "      <td>21</td>\n",
       "      <td>Silvert's Adaptive Clothing &amp; Footwear</td>\n",
       "      <td>Men’s Open Back Adaptive Flannel Nightgown for...</td>\n",
       "    </tr>\n",
       "    <tr>\n",
       "      <td>22</td>\n",
       "      <td>COOFANDY</td>\n",
       "      <td>Men's Casual Linen Button Down Shirt Short Sle...</td>\n",
       "    </tr>\n",
       "    <tr>\n",
       "      <td>23</td>\n",
       "      <td>Amazon Essentials</td>\n",
       "      <td>Men's Slim-Fit Short-Sleeve Poplin Shirt</td>\n",
       "    </tr>\n",
       "    <tr>\n",
       "      <td>24</td>\n",
       "      <td>Liberty Imports</td>\n",
       "      <td>5 Pack Men’s Active Quick Dry Crew Neck T Shir...</td>\n",
       "    </tr>\n",
       "    <tr>\n",
       "      <td>25</td>\n",
       "      <td>Under Armour</td>\n",
       "      <td>Men's New Freedom Flag T-Shirt</td>\n",
       "    </tr>\n",
       "    <tr>\n",
       "      <td>26</td>\n",
       "      <td>Amazon Essentials</td>\n",
       "      <td>Men's Regular-Fit Short-Sleeve Poplin Shirt</td>\n",
       "    </tr>\n",
       "    <tr>\n",
       "      <td>27</td>\n",
       "      <td>Under Armour</td>\n",
       "      <td>Men's Tech 2.0 Short-sleeve T-shirt</td>\n",
       "    </tr>\n",
       "    <tr>\n",
       "      <td>28</td>\n",
       "      <td>Amazon Essentials</td>\n",
       "      <td>Men's Regular-Fit Short-Sleeve Pocket Oxford S...</td>\n",
       "    </tr>\n",
       "    <tr>\n",
       "      <td>29</td>\n",
       "      <td>Tommy Hilfiger</td>\n",
       "      <td>Men's Short Sleeve Cotton Pique Polo Shirt in ...</td>\n",
       "    </tr>\n",
       "    <tr>\n",
       "      <td>30</td>\n",
       "      <td>Under Armour</td>\n",
       "      <td>Men's Tech Golf Polo</td>\n",
       "    </tr>\n",
       "    <tr>\n",
       "      <td>31</td>\n",
       "      <td>Amazon Essentials</td>\n",
       "      <td>Men's Slim-Fit Quick-Dry Golf Polo Shirt</td>\n",
       "    </tr>\n",
       "    <tr>\n",
       "      <td>32</td>\n",
       "      <td>Champion</td>\n",
       "      <td>Men's T-Shirt, Cotton Midweight Men's Crewneck...</td>\n",
       "    </tr>\n",
       "    <tr>\n",
       "      <td>33</td>\n",
       "      <td>Hanes</td>\n",
       "      <td>Sport Men's Heathered Training Tee</td>\n",
       "    </tr>\n",
       "    <tr>\n",
       "      <td>34</td>\n",
       "      <td>Amazon Essentials</td>\n",
       "      <td>Men's Short-Sleeve Chambray Shirt</td>\n",
       "    </tr>\n",
       "    <tr>\n",
       "      <td>35</td>\n",
       "      <td>Hanes</td>\n",
       "      <td>Men’s X-Temp Short Sleeve Polo Shirt, Midweigh...</td>\n",
       "    </tr>\n",
       "    <tr>\n",
       "      <td>36</td>\n",
       "      <td>JMIERR</td>\n",
       "      <td>Men's Casual Stylish Short Sleeve Button-Up St...</td>\n",
       "    </tr>\n",
       "    <tr>\n",
       "      <td>37</td>\n",
       "      <td>Under Armour</td>\n",
       "      <td>Men's Sportstyle Left Chest Short-sleeve T-shirt</td>\n",
       "    </tr>\n",
       "    <tr>\n",
       "      <td>38</td>\n",
       "      <td>Amazon Essentials</td>\n",
       "      <td>Men's Regular-Fit Cotton Pique Polo Shirt (Ava...</td>\n",
       "    </tr>\n",
       "    <tr>\n",
       "      <td>39</td>\n",
       "      <td>Uni Clau</td>\n",
       "      <td>Fashion Mens T Shirt Muscle Gym Workout Athlet...</td>\n",
       "    </tr>\n",
       "    <tr>\n",
       "      <td>40</td>\n",
       "      <td>JEKAOYI</td>\n",
       "      <td>Button Down Short Sleeve Linen Shirts for Men ...</td>\n",
       "    </tr>\n",
       "    <tr>\n",
       "      <td>41</td>\n",
       "      <td>VATPAVE</td>\n",
       "      <td>Mens Summer Tropical Shirts Short Sleeve Butto...</td>\n",
       "    </tr>\n",
       "    <tr>\n",
       "      <td>42</td>\n",
       "      <td>Amazon Essentials</td>\n",
       "      <td>Men's Slim-Fit Long-Sleeve Poplin Shirt</td>\n",
       "    </tr>\n",
       "    <tr>\n",
       "      <td>43</td>\n",
       "      <td>Under Armour</td>\n",
       "      <td>Men's Boxed Sportstyle Short-sleeve T-shirt</td>\n",
       "    </tr>\n",
       "    <tr>\n",
       "      <td>44</td>\n",
       "      <td>Amazon Essentials</td>\n",
       "      <td>Men's Slim-Fit Short-Sleeve Print Shirt</td>\n",
       "    </tr>\n",
       "    <tr>\n",
       "      <td>45</td>\n",
       "      <td>MAGCOMSEN</td>\n",
       "      <td>Men's Polo Shirt Quick Dry Performance Short S...</td>\n",
       "    </tr>\n",
       "    <tr>\n",
       "      <td>46</td>\n",
       "      <td>INTO THE AM</td>\n",
       "      <td>Mens T Shirt - Short Sleeve Crew Neck Soft Fit...</td>\n",
       "    </tr>\n",
       "    <tr>\n",
       "      <td>47</td>\n",
       "      <td>Gildan</td>\n",
       "      <td>Adult Ultra Cotton Long Sleeve T-Shirt, Style ...</td>\n",
       "    </tr>\n",
       "    <tr>\n",
       "      <td>48</td>\n",
       "      <td>Calvin Klein</td>\n",
       "      <td>Men's Light Weight Quick Dry Short Sleeve 40+ ...</td>\n",
       "    </tr>\n",
       "    <tr>\n",
       "      <td>49</td>\n",
       "      <td>Amazon Essentials</td>\n",
       "      <td>Men's Long-Sleeve Flannel Shirt (Available in ...</td>\n",
       "    </tr>\n",
       "    <tr>\n",
       "      <td>50</td>\n",
       "      <td>Van Heusen</td>\n",
       "      <td>Men's Dress Shirt Regular Fit Oxford Solid</td>\n",
       "    </tr>\n",
       "    <tr>\n",
       "      <td>51</td>\n",
       "      <td>Van Heusen</td>\n",
       "      <td>Men's Dress Shirt Regular Fit Poplin Solid</td>\n",
       "    </tr>\n",
       "    <tr>\n",
       "      <td>52</td>\n",
       "      <td>adidas</td>\n",
       "      <td>Men's Essentials Camouflage Print Tee</td>\n",
       "    </tr>\n",
       "    <tr>\n",
       "      <td>53</td>\n",
       "      <td>Nautica</td>\n",
       "      <td>Men's Short Sleeve Solid Stretch Cotton Pique ...</td>\n",
       "    </tr>\n",
       "    <tr>\n",
       "      <td>54</td>\n",
       "      <td>Hanes</td>\n",
       "      <td>Men's T-Shirts, Men's BeefyT Henley Shirts, Me...</td>\n",
       "    </tr>\n",
       "    <tr>\n",
       "      <td>55</td>\n",
       "      <td>Amazon Essentials</td>\n",
       "      <td>Men's Regular-Fit Long-Sleeve Casual Poplin Shirt</td>\n",
       "    </tr>\n",
       "    <tr>\n",
       "      <td>56</td>\n",
       "      <td>Liberty Pro</td>\n",
       "      <td>3 Pack: Mens Polo Shirts, Business Casual Golf...</td>\n",
       "    </tr>\n",
       "    <tr>\n",
       "      <td>57</td>\n",
       "      <td>Columbia</td>\n",
       "      <td>Men's Bahama Ii Short Sleeve Shirt</td>\n",
       "    </tr>\n",
       "    <tr>\n",
       "      <td>58</td>\n",
       "      <td>Columbia</td>\n",
       "      <td>Men's Slack Tide Camp Shirt</td>\n",
       "    </tr>\n",
       "    <tr>\n",
       "      <td>59</td>\n",
       "      <td>Columbia</td>\n",
       "      <td>Men's Terminal Tackle Long Sleeve Shirt</td>\n",
       "    </tr>\n",
       "  </tbody>\n",
       "</table>\n",
       "</div>"
      ],
      "text/plain": [
       "                                     brand  \\\n",
       "0                        Amazon Essentials   \n",
       "1                                   Eycuro   \n",
       "2                                   JMIERR   \n",
       "3                                 COOFANDY   \n",
       "4                                   Gildan   \n",
       "5                                 Carhartt   \n",
       "6                                   Gildan   \n",
       "7                                    Hanes   \n",
       "8                        Amazon Essentials   \n",
       "9                                  Nautica   \n",
       "10                       Amazon Essentials   \n",
       "11                                 KLIEGOU   \n",
       "12                               M MAELREG   \n",
       "13                               MAGCOMSEN   \n",
       "14                         Real Essentials   \n",
       "15                       Amazon Essentials   \n",
       "16                                COOFANDY   \n",
       "17                                   Hanes   \n",
       "18                                 KLIEGOU   \n",
       "19                                  VEBOON   \n",
       "20                                 VATPAVE   \n",
       "21  Silvert's Adaptive Clothing & Footwear   \n",
       "22                                COOFANDY   \n",
       "23                       Amazon Essentials   \n",
       "24                         Liberty Imports   \n",
       "25                            Under Armour   \n",
       "26                       Amazon Essentials   \n",
       "27                            Under Armour   \n",
       "28                       Amazon Essentials   \n",
       "29                          Tommy Hilfiger   \n",
       "30                            Under Armour   \n",
       "31                       Amazon Essentials   \n",
       "32                                Champion   \n",
       "33                                   Hanes   \n",
       "34                       Amazon Essentials   \n",
       "35                                   Hanes   \n",
       "36                                  JMIERR   \n",
       "37                            Under Armour   \n",
       "38                       Amazon Essentials   \n",
       "39                                Uni Clau   \n",
       "40                                 JEKAOYI   \n",
       "41                                 VATPAVE   \n",
       "42                       Amazon Essentials   \n",
       "43                            Under Armour   \n",
       "44                       Amazon Essentials   \n",
       "45                               MAGCOMSEN   \n",
       "46                             INTO THE AM   \n",
       "47                                  Gildan   \n",
       "48                            Calvin Klein   \n",
       "49                       Amazon Essentials   \n",
       "50                              Van Heusen   \n",
       "51                              Van Heusen   \n",
       "52                                  adidas   \n",
       "53                                 Nautica   \n",
       "54                                   Hanes   \n",
       "55                       Amazon Essentials   \n",
       "56                             Liberty Pro   \n",
       "57                                Columbia   \n",
       "58                                Columbia   \n",
       "59                                Columbia   \n",
       "\n",
       "                                         product_name  \n",
       "0                   Men's Short-Sleeve Chambray Shirt  \n",
       "1   Mens Henley T-Shirts Summer Short Sleeve 3/4 B...  \n",
       "2   Men's Linen Shirts Casual Long Sleeve Button-D...  \n",
       "3   Men's Casual Short Sleeve Button Down Shirt Te...  \n",
       "4         Men's Crew T-Shirts, Multipack, Style G1100  \n",
       "5   Men's Loose Fit Heavyweight Short-Sleeve Pocke...  \n",
       "6       Men's V-neck T-shirts, Multipack, Style G1103  \n",
       "7   Mens Beefyt T-Shirt, Classic Heavyweight Cotto...  \n",
       "8      Men's Short-Sleeve Crewneck T-Shirt, Pack of 2  \n",
       "9   Men's Solid Crew Neck Short-Sleeve Pocket T-Shirt  \n",
       "10             Men's Slim-Fit Cotton Pique Polo Shirt  \n",
       "11  Men's V Neck T Shirts - Casual Stylish Fitted ...  \n",
       "12  Men's Golf Polo Shirts Short Sleeve Striped Pe...  \n",
       "13  Men's Short Sleeve Polo Golf Shirts 3-Button M...  \n",
       "14  5 Pack: Men’s Dry-Fit Moisture Wicking Active ...  \n",
       "15         Men's Regular-Fit Short-Sleeve Print Shirt  \n",
       "16  Men's Cotton Linen Henley Shirt Long Sleeve Hi...  \n",
       "17  Men's EcoSmart Polo Shirt, Sport Shirts for Me...  \n",
       "18  Men's T-Shirts - Premium Cotton Crew Neck Tees...  \n",
       "19  Polo Shirts for Men Casual Short Sleeve Perfor...  \n",
       "20  Mens Striped Summer Shirt Casual Button Down S...  \n",
       "21  Men’s Open Back Adaptive Flannel Nightgown for...  \n",
       "22  Men's Casual Linen Button Down Shirt Short Sle...  \n",
       "23           Men's Slim-Fit Short-Sleeve Poplin Shirt  \n",
       "24  5 Pack Men’s Active Quick Dry Crew Neck T Shir...  \n",
       "25                     Men's New Freedom Flag T-Shirt  \n",
       "26        Men's Regular-Fit Short-Sleeve Poplin Shirt  \n",
       "27                Men's Tech 2.0 Short-sleeve T-shirt  \n",
       "28  Men's Regular-Fit Short-Sleeve Pocket Oxford S...  \n",
       "29  Men's Short Sleeve Cotton Pique Polo Shirt in ...  \n",
       "30                               Men's Tech Golf Polo  \n",
       "31           Men's Slim-Fit Quick-Dry Golf Polo Shirt  \n",
       "32  Men's T-Shirt, Cotton Midweight Men's Crewneck...  \n",
       "33                 Sport Men's Heathered Training Tee  \n",
       "34                  Men's Short-Sleeve Chambray Shirt  \n",
       "35  Men’s X-Temp Short Sleeve Polo Shirt, Midweigh...  \n",
       "36  Men's Casual Stylish Short Sleeve Button-Up St...  \n",
       "37   Men's Sportstyle Left Chest Short-sleeve T-shirt  \n",
       "38  Men's Regular-Fit Cotton Pique Polo Shirt (Ava...  \n",
       "39  Fashion Mens T Shirt Muscle Gym Workout Athlet...  \n",
       "40  Button Down Short Sleeve Linen Shirts for Men ...  \n",
       "41  Mens Summer Tropical Shirts Short Sleeve Butto...  \n",
       "42            Men's Slim-Fit Long-Sleeve Poplin Shirt  \n",
       "43        Men's Boxed Sportstyle Short-sleeve T-shirt  \n",
       "44            Men's Slim-Fit Short-Sleeve Print Shirt  \n",
       "45  Men's Polo Shirt Quick Dry Performance Short S...  \n",
       "46  Mens T Shirt - Short Sleeve Crew Neck Soft Fit...  \n",
       "47  Adult Ultra Cotton Long Sleeve T-Shirt, Style ...  \n",
       "48  Men's Light Weight Quick Dry Short Sleeve 40+ ...  \n",
       "49  Men's Long-Sleeve Flannel Shirt (Available in ...  \n",
       "50         Men's Dress Shirt Regular Fit Oxford Solid  \n",
       "51         Men's Dress Shirt Regular Fit Poplin Solid  \n",
       "52              Men's Essentials Camouflage Print Tee  \n",
       "53  Men's Short Sleeve Solid Stretch Cotton Pique ...  \n",
       "54  Men's T-Shirts, Men's BeefyT Henley Shirts, Me...  \n",
       "55  Men's Regular-Fit Long-Sleeve Casual Poplin Shirt  \n",
       "56  3 Pack: Mens Polo Shirts, Business Casual Golf...  \n",
       "57                 Men's Bahama Ii Short Sleeve Shirt  \n",
       "58                        Men's Slack Tide Camp Shirt  \n",
       "59            Men's Terminal Tackle Long Sleeve Shirt  "
      ]
     },
     "execution_count": 75,
     "metadata": {},
     "output_type": "execute_result"
    }
   ],
   "source": [
    "pd.DataFrame(product_metadata)"
   ]
  },
  {
   "cell_type": "markdown",
   "id": "f7f54716",
   "metadata": {},
   "source": [
    "### SheWin, She Spin... or rotate\n",
    "1. Find all products\n",
    "2. filter to those with brand == SHEWIN\n",
    "3. Find the image\n",
    "    - Inject Javascript to make it spin."
   ]
  },
  {
   "cell_type": "code",
   "execution_count": 129,
   "id": "b40ba5cd",
   "metadata": {},
   "outputs": [],
   "source": [
    "def spin(driver, elem):\n",
    "    \"\"\"\n",
    "    Injects a style attribute to rotate `elem` 180 degrees.\n",
    "    \"\"\"\n",
    "    style = f\"transform: rotate(180deg) !important; \"\n",
    "    driver.execute_script(\n",
    "            f\"arguments[0].setAttribute('style','{style}')\", elem\n",
    "    )"
   ]
  },
  {
   "cell_type": "code",
   "execution_count": 117,
   "id": "971e6756",
   "metadata": {},
   "outputs": [],
   "source": [
    "for elem in ads:\n",
    "    spin(driver, elem)"
   ]
  },
  {
   "cell_type": "code",
   "execution_count": 123,
   "id": "d461f6a7",
   "metadata": {},
   "outputs": [],
   "source": [
    "brands_to_spin = [\n",
    "    'SHEWIN',\n",
    "    'Blooming Jelly'\n",
    "]"
   ]
  },
  {
   "cell_type": "code",
   "execution_count": 125,
   "id": "09d3bf8f",
   "metadata": {},
   "outputs": [
    {
     "data": {
      "text/plain": [
       "60"
      ]
     },
     "execution_count": 125,
     "metadata": {},
     "output_type": "execute_result"
    }
   ],
   "source": [
    "product_tiles = driver.find_elements(\n",
    "    By.XPATH, \n",
    "    './/div[contains(@cel_widget_id, \"MAIN-SEARCH_RESULTS-\")]' # the contains syntac allows a substring match\n",
    ")\n",
    "len(product_tiles)"
   ]
  },
  {
   "cell_type": "markdown",
   "id": "2e82fadb",
   "metadata": {},
   "source": [
    "## Here's the bountry\n",
    "Ultimately, I want every product image from specific brands (of y0ur choosing) to rotate continuously.\n",
    "You need a full screenshot or a video is fine, too.\n",
    "\n",
    "Also, make sure to save the results before you parse them."
   ]
  },
  {
   "cell_type": "code",
   "execution_count": 131,
   "id": "bc728a7d",
   "metadata": {},
   "outputs": [
    {
     "name": "stdout",
     "output_type": "stream",
     "text": [
      "+22\n",
      "Blooming Jelly\n",
      "Womens White Blouse V Neck Ruffle Sleeve Flowy Shirts Dressy Casual Cute Summer Tops\n",
      "4,633\n",
      "1K+ bought in past month\n",
      "$31\n",
      "99 List:\n",
      "$34.99\n",
      "FREE delivery Sun, Jul 23\n",
      "Or fastest delivery Fri, Jul 21\n",
      "+7\n",
      "Blooming Jelly\n",
      "Women's Dressy Casual Tops Business Work Blouses White Button Down Shirts Cap Sleeve V Neck Tshirt\n",
      "130\n",
      "100+ bought in past month\n",
      "$28\n",
      "99\n",
      "FREE delivery Sun, Jul 23\n",
      "Or fastest delivery Fri, Jul 21\n"
     ]
    }
   ],
   "source": [
    "for product in product_tiles:\n",
    "    # get the brand name...\n",
    "    brand_name = product.find_element(\n",
    "        By.TAG_NAME, 'h2'\n",
    "    ).text\n",
    "    \n",
    "    # check if brand is in list\n",
    "    if brand_name in brands_to_spin:\n",
    "        print(product.text)\n",
    "        # find the image TK\n",
    "        spin(driver, product)"
   ]
  },
  {
   "cell_type": "code",
   "execution_count": null,
   "id": "5f463a9f",
   "metadata": {},
   "outputs": [],
   "source": []
  }
 ],
 "metadata": {
  "kernelspec": {
   "display_name": "Python 3",
   "language": "python",
   "name": "python3"
  },
  "language_info": {
   "codemirror_mode": {
    "name": "ipython",
    "version": 3
   },
   "file_extension": ".py",
   "mimetype": "text/x-python",
   "name": "python",
   "nbconvert_exporter": "python",
   "pygments_lexer": "ipython3",
   "version": "3.7.3"
  }
 },
 "nbformat": 4,
 "nbformat_minor": 5
}
