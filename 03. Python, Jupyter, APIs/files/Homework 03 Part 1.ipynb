{
 "cells": [
  {
   "cell_type": "markdown",
   "id": "d96735a8",
   "metadata": {},
   "source": [
    "### What is the URL to the documentation?"
   ]
  },
  {
   "cell_type": "code",
   "execution_count": 120,
   "id": "b8e224f0",
   "metadata": {},
   "outputs": [
    {
     "data": {
      "text/plain": [
       "'https://pokeapi.co/docs/v2'"
      ]
     },
     "execution_count": 120,
     "metadata": {},
     "output_type": "execute_result"
    }
   ],
   "source": [
    "'https://pokeapi.co/docs/v2'"
   ]
  },
  {
   "cell_type": "code",
   "execution_count": 121,
   "id": "055d168f",
   "metadata": {},
   "outputs": [],
   "source": [
    "import requests\n",
    "import json"
   ]
  },
  {
   "cell_type": "markdown",
   "id": "2a527b8d",
   "metadata": {},
   "source": [
    "### What Pokemon has the ID of 55 ?"
   ]
  },
  {
   "cell_type": "code",
   "execution_count": 122,
   "id": "8f4edebf",
   "metadata": {},
   "outputs": [
    {
     "name": "stdout",
     "output_type": "stream",
     "text": [
      "Golduck is the pokemon with the ID of 55.\n"
     ]
    }
   ],
   "source": [
    "url = \"https://pokeapi.co/api/v2/pokemon/55\"\n",
    "response = requests.get(url)\n",
    "data = response.json()\n",
    "print(f\"{data['name'].capitalize()} is the pokemon with the ID of 55.\")"
   ]
  },
  {
   "cell_type": "markdown",
   "id": "1ed71710",
   "metadata": {},
   "source": [
    "### How tall is that pokemon?"
   ]
  },
  {
   "cell_type": "code",
   "execution_count": 124,
   "id": "9c9270a8",
   "metadata": {},
   "outputs": [
    {
     "name": "stdout",
     "output_type": "stream",
     "text": [
      "Golduck is 17 decimeters tall.\n"
     ]
    }
   ],
   "source": [
    "# How tall is that pokemon?\n",
    "\n",
    "print(f\"{data['name'].capitalize()} is {data['height']} decimeters tall.\")"
   ]
  },
  {
   "cell_type": "code",
   "execution_count": 126,
   "id": "73f393d9",
   "metadata": {},
   "outputs": [
    {
     "name": "stdout",
     "output_type": "stream",
     "text": [
      "20 versions of Pokemon games have been released so far.\n"
     ]
    }
   ],
   "source": [
    "# How many versions of Pokemon games have been released?\n",
    "\n",
    "url = 'https://pokeapi.co/api/v2/version'\n",
    "response = requests.get(url)\n",
    "data = response.json()\n",
    "\n",
    "n = 0\n",
    "for version in (data['results']):\n",
    "    n = n + 1\n",
    "    \n",
    "print(f\"{n} versions of Pokemon games have been released so far.\")"
   ]
  },
  {
   "cell_type": "markdown",
   "id": "d3cc1dad",
   "metadata": {},
   "source": [
    "### Print out the name of every electric-type pokemon."
   ]
  },
  {
   "cell_type": "code",
   "execution_count": 7,
   "id": "528a715e",
   "metadata": {},
   "outputs": [
    {
     "name": "stdout",
     "output_type": "stream",
     "text": [
      "pikachu\n",
      "raichu\n",
      "magnemite\n",
      "magneton\n",
      "voltorb\n",
      "electrode\n",
      "electabuzz\n",
      "jolteon\n",
      "zapdos\n",
      "chinchou\n",
      "lanturn\n",
      "pichu\n",
      "mareep\n",
      "flaaffy\n",
      "ampharos\n",
      "elekid\n",
      "raikou\n",
      "electrike\n",
      "manectric\n",
      "plusle\n",
      "minun\n",
      "shinx\n",
      "luxio\n",
      "luxray\n",
      "pachirisu\n",
      "magnezone\n",
      "electivire\n",
      "rotom\n",
      "blitzle\n",
      "zebstrika\n",
      "emolga\n",
      "joltik\n",
      "galvantula\n",
      "tynamo\n",
      "eelektrik\n",
      "eelektross\n",
      "stunfisk\n",
      "thundurus-incarnate\n",
      "zekrom\n",
      "helioptile\n",
      "heliolisk\n",
      "dedenne\n",
      "charjabug\n",
      "vikavolt\n",
      "togedemaru\n",
      "tapu-koko\n",
      "xurkitree\n",
      "zeraora\n",
      "yamper\n",
      "boltund\n",
      "toxel\n",
      "toxtricity-amped\n",
      "pincurchin\n",
      "morpeko-full-belly\n",
      "dracozolt\n",
      "arctozolt\n",
      "regieleki\n",
      "pawmi\n",
      "pawmo\n",
      "pawmot\n",
      "tadbulb\n",
      "bellibolt\n",
      "wattrel\n",
      "kilowattrel\n",
      "sandy-shocks\n",
      "iron-hands\n",
      "iron-thorns\n",
      "miraidon\n",
      "There are 68 electric Pokemon in this dataset.\n"
     ]
    }
   ],
   "source": [
    "# This method is probably not the fastest, as it manually checks for every single pokemon in the dataset.\n",
    "\n",
    "nums = list(range(1,20000))\n",
    "n = 0\n",
    "\n",
    "for num in nums:\n",
    "\n",
    "    url = \"https://pokeapi.co/api/v2/pokemon/\"+str(num)\n",
    "    response = requests.get(url)\n",
    "    \n",
    "    if response.status_code == 200:\n",
    "    \n",
    "        data = response.json()\n",
    "\n",
    "        for type in data['types']:    \n",
    "            if 'electric' in type['type']['name']:\n",
    "                print(data['name'])\n",
    "                n = n + 1\n",
    "    else:\n",
    "        break\n",
    "\n",
    "print(f\"There are {n} electric Pokemon in this dataset.\")\n",
    "\n"
   ]
  },
  {
   "cell_type": "code",
   "execution_count": 128,
   "id": "fab8185e",
   "metadata": {},
   "outputs": [
    {
     "name": "stdout",
     "output_type": "stream",
     "text": [
      "pikachu\n",
      "raichu\n",
      "magnemite\n",
      "magneton\n",
      "voltorb\n",
      "electrode\n",
      "electabuzz\n",
      "jolteon\n",
      "zapdos\n",
      "chinchou\n",
      "lanturn\n",
      "pichu\n",
      "mareep\n",
      "flaaffy\n",
      "ampharos\n",
      "elekid\n",
      "raikou\n",
      "electrike\n",
      "manectric\n",
      "plusle\n",
      "minun\n",
      "shinx\n",
      "luxio\n",
      "luxray\n",
      "pachirisu\n",
      "magnezone\n",
      "electivire\n",
      "rotom\n",
      "blitzle\n",
      "zebstrika\n",
      "emolga\n",
      "joltik\n",
      "galvantula\n",
      "tynamo\n",
      "eelektrik\n",
      "eelektross\n",
      "stunfisk\n",
      "thundurus-incarnate\n",
      "zekrom\n",
      "helioptile\n",
      "heliolisk\n",
      "dedenne\n",
      "charjabug\n",
      "vikavolt\n",
      "togedemaru\n",
      "tapu-koko\n",
      "xurkitree\n",
      "zeraora\n",
      "yamper\n",
      "boltund\n",
      "toxel\n",
      "toxtricity-amped\n",
      "pincurchin\n",
      "morpeko-full-belly\n",
      "dracozolt\n",
      "arctozolt\n",
      "regieleki\n",
      "pawmi\n",
      "pawmo\n",
      "pawmot\n",
      "tadbulb\n",
      "bellibolt\n",
      "wattrel\n",
      "kilowattrel\n",
      "sandy-shocks\n",
      "iron-hands\n",
      "iron-thorns\n",
      "miraidon\n",
      "rotom-heat\n",
      "rotom-wash\n",
      "rotom-frost\n",
      "rotom-fan\n",
      "rotom-mow\n",
      "thundurus-therian\n",
      "ampharos-mega\n",
      "manectric-mega\n",
      "pikachu-rock-star\n",
      "pikachu-belle\n",
      "pikachu-pop-star\n",
      "pikachu-phd\n",
      "pikachu-libre\n",
      "pikachu-cosplay\n",
      "pikachu-original-cap\n",
      "pikachu-hoenn-cap\n",
      "pikachu-sinnoh-cap\n",
      "pikachu-unova-cap\n",
      "pikachu-kalos-cap\n",
      "pikachu-alola-cap\n",
      "raichu-alola\n",
      "geodude-alola\n",
      "graveler-alola\n",
      "golem-alola\n",
      "vikavolt-totem\n",
      "oricorio-pom-pom\n",
      "pikachu-partner-cap\n",
      "togedemaru-totem\n",
      "pikachu-starter\n",
      "pikachu-world-cap\n",
      "toxtricity-low-key\n",
      "morpeko-hangry\n",
      "pikachu-gmax\n",
      "toxtricity-amped-gmax\n",
      "toxtricity-low-key-gmax\n",
      "voltorb-hisui\n",
      "electrode-hisui\n",
      "miraidon-low-power-mode\n",
      "miraidon-drive-mode\n",
      "miraidon-aquatic-mode\n",
      "miraidon-glide-mode\n",
      "There are 109 electric pokemon in this dataset\n"
     ]
    }
   ],
   "source": [
    "# This seems a  more efficient way to do the same task. However, results are not the same.\n",
    "# By searching the data this way, I have all sorts of different variations of the same pokemons.\n",
    "# 109 pokemons, instead of 68 of the previous method.\n",
    "\n",
    "n = 0\n",
    "\n",
    "url = \"https://pokeapi.co/api/v2/type/electric/\"\n",
    "response = requests.get(url)\n",
    "data = response.json()\n",
    "for poke in (data['pokemon']):\n",
    "    print(poke['pokemon']['name'])\n",
    "    n = n + 1\n",
    "    \n",
    "print(f\"There are {n} electric pokemon in this dataset\")\n",
    "\n"
   ]
  },
  {
   "cell_type": "markdown",
   "id": "1bd3bd4d",
   "metadata": {},
   "source": [
    "### 6. What are electric-type Pokemon called in the Korean version of the game?\n",
    "#### (i.e. what do they call electric-type pokemon in Korean if not \"electric\")"
   ]
  },
  {
   "cell_type": "code",
   "execution_count": 130,
   "id": "d59db030",
   "metadata": {},
   "outputs": [
    {
     "name": "stdout",
     "output_type": "stream",
     "text": [
      "Electric-type Pokemon in the Korean version of the game are called 전기.\n"
     ]
    }
   ],
   "source": [
    "url = \"https://pokeapi.co/api/v2/type/electric/\"\n",
    "response = requests.get(url)\n",
    "data = response.json()\n",
    "\n",
    "# print(data['names'])\n",
    "\n",
    "# for name in data['names']:\n",
    "#     print(names['language'])\n",
    "\n",
    "\n",
    "\n",
    "\n",
    "lang = {}\n",
    "\n",
    "data = response.json()\n",
    "\n",
    "for language in data['names']:\n",
    "    lang [language['language']['name']] = language['name']\n",
    "        \n",
    "print(f\"Electric-type Pokemon in the Korean version of the game are called {lang['ko']}.\")\n"
   ]
  },
  {
   "cell_type": "markdown",
   "id": "4db1c0eb",
   "metadata": {},
   "source": [
    "### 7. Who has a higher speed stat, Eevee or Pikachu ?"
   ]
  },
  {
   "cell_type": "code",
   "execution_count": 132,
   "id": "bf6a905e",
   "metadata": {},
   "outputs": [
    {
     "name": "stdout",
     "output_type": "stream",
     "text": [
      "Pikachu has the higher speed, with 90.\n"
     ]
    }
   ],
   "source": [
    "# Who has a higher speed stat, Eevee or Pikachu?\n",
    "\n",
    "# Method one : not sure what I did to make it work.\n",
    "\n",
    "pokemon = ['eevee', 'pikachu']\n",
    "\n",
    "poke_speed = {}\n",
    "\n",
    "for poke in pokemon:\n",
    "    \n",
    "    url = 'https://pokeapi.co/api/v2/pokemon/'+poke\n",
    "    response = requests.get(url)\n",
    "    data = response.json()\n",
    "    \n",
    "    speed = (data['stats'][5]['base_stat'])\n",
    "    \n",
    "    poke_speed[poke] = speed\n",
    "\n",
    "print(f\"{max(poke_speed, key=poke_speed.get).capitalize()} has the higher speed, with {max(poke_speed.values())}.\")"
   ]
  }
 ],
 "metadata": {
  "kernelspec": {
   "display_name": "Python 3 (ipykernel)",
   "language": "python",
   "name": "python3"
  },
  "language_info": {
   "codemirror_mode": {
    "name": "ipython",
    "version": 3
   },
   "file_extension": ".py",
   "mimetype": "text/x-python",
   "name": "python",
   "nbconvert_exporter": "python",
   "pygments_lexer": "ipython3",
   "version": "3.10.11"
  }
 },
 "nbformat": 4,
 "nbformat_minor": 5
}
