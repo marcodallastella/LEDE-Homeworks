{
 "cells": [
  {
   "cell_type": "code",
   "execution_count": 6,
   "id": "9072b88e",
   "metadata": {},
   "outputs": [],
   "source": [
    "import requests\n",
    "import json"
   ]
  },
  {
   "cell_type": "code",
   "execution_count": 7,
   "id": "c4cf625a",
   "metadata": {},
   "outputs": [],
   "source": [
    "# What is the URL to the documentation?\n",
    "\n",
    "api_documentation = 'https://www.weatherapi.com/docs/'"
   ]
  },
  {
   "cell_type": "code",
   "execution_count": 8,
   "id": "1c594cd0",
   "metadata": {},
   "outputs": [
    {
     "name": "stdout",
     "output_type": "stream",
     "text": [
      "<Response [200]>\n",
      "{'location': {'name': 'Bassano Del Grappa', 'region': 'Veneto', 'country': 'Italy', 'lat': 45.77, 'lon': 11.73, 'tz_id': 'Europe/Rome', 'localtime_epoch': 1686605743, 'localtime': '2023-06-12 23:35'}, 'current': {'last_updated_epoch': 1686605400, 'last_updated': '2023-06-12 23:30', 'temp_c': 22.0, 'temp_f': 71.6, 'is_day': 0, 'condition': {'text': 'Partly cloudy', 'icon': '//cdn.weatherapi.com/weather/64x64/night/116.png', 'code': 1003}, 'wind_mph': 2.5, 'wind_kph': 4.0, 'wind_degree': 60, 'wind_dir': 'ENE', 'pressure_mb': 1011.0, 'pressure_in': 29.85, 'precip_mm': 0.3, 'precip_in': 0.01, 'humidity': 73, 'cloud': 50, 'feelslike_c': 24.5, 'feelslike_f': 76.1, 'vis_km': 10.0, 'vis_miles': 6.0, 'uv': 1.0, 'gust_mph': 8.7, 'gust_kph': 14.0}}\n"
     ]
    }
   ],
   "source": [
    "# Make a request for the current weather where you are born, or somewhere you've lived.\n",
    "\n",
    "key = '625116ec525a4ed9849225219230906'\n",
    "query = 'Bassano del Grappa'\n",
    "\n",
    "url = f\"http://api.weatherapi.com/v1/current.json?key={key}&q={query}&aqi=no\"\n",
    "response = requests.get(url)\n",
    "data = response.json()\n",
    "print(response)\n",
    "print(data)\n"
   ]
  },
  {
   "cell_type": "code",
   "execution_count": 9,
   "id": "a284d5ed",
   "metadata": {},
   "outputs": [
    {
     "name": "stdout",
     "output_type": "stream",
     "text": [
      "Italy\n"
     ]
    }
   ],
   "source": [
    "# Print out the country this location is in.\n",
    "\n",
    "print(data['location']['country'])"
   ]
  },
  {
   "cell_type": "code",
   "execution_count": 10,
   "id": "bbc05794",
   "metadata": {},
   "outputs": [
    {
     "name": "stdout",
     "output_type": "stream",
     "text": [
      "It feels 4.5 degrees hotter.\n"
     ]
    }
   ],
   "source": [
    "# Print out the difference between the current temperature and how warm it feels.\n",
    "# Use \"It feels ___ degrees colder\" or \"It feels ___ degrees warmer,\" not negative numbers.\n",
    "\n",
    "temp_f = data['current']['temp_f']\n",
    "feelslike_f = data['current']['feelslike_f']\n",
    "\n",
    "if temp_f > feelslike_f:\n",
    "    print(f\"It feels {temp_f - feelslike_f} degrees colder.\")\n",
    "    \n",
    "elif temp_f < feelslike_f:\n",
    "    print(f\"It feels {feelslike_f - temp_f} degrees hotter.\")\n",
    "\n",
    "else:\n",
    "    print(f\"It feels exactly the same degrees that there are, which is {temp_f} F.\")\n",
    "    "
   ]
  },
  {
   "cell_type": "code",
   "execution_count": 11,
   "id": "ac0d4b98",
   "metadata": {},
   "outputs": [
    {
     "name": "stdout",
     "output_type": "stream",
     "text": [
      "Currently there are 68.0 F degrees in LHR\n"
     ]
    }
   ],
   "source": [
    "# What's the current temperature at Heathrow International Airport? Use the airport's IATA code to search.\n",
    "\n",
    "query = 'LHR'\n",
    "url = f\"http://api.weatherapi.com/v1/current.json?key={key}&q={query}&aqi=no\"\n",
    "response = requests.get(url)\n",
    "data = response.json()\n",
    "\n",
    "print(f\"Currently there are {data['current']['temp_f']} F degrees in {query}\")"
   ]
  },
  {
   "cell_type": "code",
   "execution_count": 12,
   "id": "6a605db4",
   "metadata": {},
   "outputs": [],
   "source": [
    "# What URL would I use to request a 3-day forecast at Heathrow?\n",
    "\n",
    "url = f\"http://api.weatherapi.com/v1/forecast.json?key={key}&q=LHR&days=3&aqi=no&alerts=no\""
   ]
  },
  {
   "cell_type": "code",
   "execution_count": 13,
   "id": "69425f7b",
   "metadata": {},
   "outputs": [
    {
     "name": "stdout",
     "output_type": "stream",
     "text": [
      "2023-06-12\n",
      "2023-06-13\n",
      "2023-06-14\n"
     ]
    }
   ],
   "source": [
    "# Print the date of each of the 3 days you're getting a forecast for.\n",
    "\n",
    "query = 'LHR'\n",
    "days = str(3)\n",
    "\n",
    "url = f\"http://api.weatherapi.com/v1/forecast.json?key={key}&q={query}&days={days}&aqi=no&alerts=no\"\n",
    "response = requests.get(url)\n",
    "data = response.json()\n",
    "for day in (data['forecast']['forecastday']):\n",
    "    print(day['date'])"
   ]
  },
  {
   "cell_type": "code",
   "execution_count": 16,
   "id": "dc039b63",
   "metadata": {},
   "outputs": [
    {
     "name": "stdout",
     "output_type": "stream",
     "text": [
      "On 2023-06-12 the maximum temperature is 83.1 F.\n",
      "On 2023-06-13 the maximum temperature is 79.0 F.\n",
      "On 2023-06-14 the maximum temperature is 79.7 F.\n"
     ]
    }
   ],
   "source": [
    "# Print the maximum temperature of each of the days.\n",
    "\n",
    "for day in (data['forecast']['forecastday']):\n",
    "    print(f\"On {day['date']} the maximum temperature is {day['day']['maxtemp_f']} F.\")"
   ]
  },
  {
   "cell_type": "code",
   "execution_count": 17,
   "id": "6fd926ac",
   "metadata": {},
   "outputs": [
    {
     "name": "stdout",
     "output_type": "stream",
     "text": [
      "2023-06-12\n"
     ]
    }
   ],
   "source": [
    "# Print only the day with the highest maximum temperature.\n",
    "\n",
    "days_max = {}\n",
    "\n",
    "for day in (data['forecast']['forecastday']):\n",
    "    days_max[day['date']] = day['day']['maxtemp_f']\n",
    "    \n",
    "print(max(days_max, key=days_max.get))\n"
   ]
  },
  {
   "cell_type": "code",
   "execution_count": null,
   "id": "f3de7536",
   "metadata": {},
   "outputs": [],
   "source": []
  }
 ],
 "metadata": {
  "kernelspec": {
   "display_name": "Python 3 (ipykernel)",
   "language": "python",
   "name": "python3"
  },
  "language_info": {
   "codemirror_mode": {
    "name": "ipython",
    "version": 3
   },
   "file_extension": ".py",
   "mimetype": "text/x-python",
   "name": "python",
   "nbconvert_exporter": "python",
   "pygments_lexer": "ipython3",
   "version": "3.10.11"
  }
 },
 "nbformat": 4,
 "nbformat_minor": 5
}
