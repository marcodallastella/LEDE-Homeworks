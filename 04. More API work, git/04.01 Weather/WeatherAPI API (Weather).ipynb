{
 "cells": [
  {
   "cell_type": "markdown",
   "metadata": {},
   "source": [
    "# WeatherAPI (Weather)\n",
    "\n",
    "Answer the following questions using [WeatherAPI](http://www.weatherapi.com/). I've added three cells for most questions but you're free to use more or less! Hold `Shift` and hit `Enter` to run a cell, and use the `+` on the top left to add a new cell to a notebook.\n",
    "\n",
    "Be sure to take advantage of both the documentation and the API Explorer!\n",
    "\n",
    "## 0) Import any libraries you might need\n",
    "\n",
    "- *Tip: We're going to be downloading things from the internet, so we probably need `requests`.*\n",
    "- *Tip: Remember you only need to import requests once!*"
   ]
  },
  {
   "cell_type": "code",
   "execution_count": 2,
   "metadata": {},
   "outputs": [],
   "source": [
    "import requests\n",
    "import json\n",
    "from dotenv import load_dotenv\n",
    "import os\n"
   ]
  },
  {
   "cell_type": "code",
   "execution_count": 3,
   "metadata": {},
   "outputs": [],
   "source": [
    "load_dotenv()  # take environment variables from .env.\n",
    "\n",
    "key = os.getenv(\"key\")"
   ]
  },
  {
   "cell_type": "markdown",
   "metadata": {
    "collapsed": true
   },
   "source": [
    "## 1) Make a request to the Weather API for where you were born (or lived, or want to visit!).\n",
    "\n",
    "- *Tip: The URL we used in class was for a place near San Francisco. What was the format of the endpoint that made this happen?*\n",
    "- *Tip: Save the URL as a separate variable, and be sure to not have `[` and `]` inside.*\n",
    "- *Tip: How is north vs. south and east vs. west latitude/longitude represented? Is it the normal North/South/East/West?*\n",
    "- *Tip: You know it's JSON, but Python doesn't! Make sure you aren't trying to deal with plain text.* \n",
    "- *Tip: Once you've imported the JSON into a variable, check the timezone's name to make sure it seems like it got the right part of the world!*"
   ]
  },
  {
   "cell_type": "code",
   "execution_count": 4,
   "metadata": {},
   "outputs": [],
   "source": [
    "query = '-13.222858340860103,-72.49191416179343'"
   ]
  },
  {
   "cell_type": "code",
   "execution_count": 5,
   "metadata": {},
   "outputs": [],
   "source": [
    "url = f\"http://api.weatherapi.com/v1/current.json?key={key}&q={query}\""
   ]
  },
  {
   "cell_type": "code",
   "execution_count": 6,
   "metadata": {},
   "outputs": [
    {
     "name": "stdout",
     "output_type": "stream",
     "text": [
      "<Response [200]>\n",
      "{'location': {'name': 'Machu Piccho', 'region': 'Cusco', 'country': 'Peru', 'lat': -13.22, 'lon': -72.49, 'tz_id': 'America/Lima', 'localtime_epoch': 1686704267, 'localtime': '2023-06-13 19:57'}, 'current': {'last_updated_epoch': 1686703500, 'last_updated': '2023-06-13 19:45', 'temp_c': 2.7, 'temp_f': 36.9, 'is_day': 0, 'condition': {'text': 'Moderate or heavy snow showers', 'icon': '//cdn.weatherapi.com/weather/64x64/night/371.png', 'code': 1258}, 'wind_mph': 3.8, 'wind_kph': 6.1, 'wind_degree': 345, 'wind_dir': 'NNW', 'pressure_mb': 1021.0, 'pressure_in': 30.14, 'precip_mm': 1.8, 'precip_in': 0.07, 'humidity': 99, 'cloud': 100, 'feelslike_c': 1.0, 'feelslike_f': 33.8, 'vis_km': 7.0, 'vis_miles': 4.0, 'uv': 1.0, 'gust_mph': 8.1, 'gust_kph': 13.0}}\n"
     ]
    }
   ],
   "source": [
    "response = requests.get(url)\n",
    "data = response.json()\n",
    "print(response)\n",
    "print(data)"
   ]
  },
  {
   "cell_type": "markdown",
   "metadata": {},
   "source": [
    "## 2) What's the current wind speed? How much warmer does it feel than it actually is?\n",
    "\n",
    "- *Tip: You can do this by browsing through the dictionaries, but it might be easier to read the documentation*\n",
    "- *Tip: For the second half: it **is** one temperature, and it **feels** a different temperature. Calculate the difference.*"
   ]
  },
  {
   "cell_type": "code",
   "execution_count": 7,
   "metadata": {},
   "outputs": [],
   "source": [
    "place = data['location']['name']\n",
    "region = data['location']['region']\n",
    "country = data['location']['country']\n",
    "wind = data['current']['wind_mph']\n",
    "\n",
    "dif_F = (data['current']['temp_f'] - data['current']['feelslike_f'])\n",
    "dif_F = (abs(round(dif_F,2)))"
   ]
  },
  {
   "cell_type": "code",
   "execution_count": 8,
   "metadata": {},
   "outputs": [
    {
     "name": "stdout",
     "output_type": "stream",
     "text": [
      "Currently in Machu Piccho, located in the Cusco region of Peru, wind speed is 3.8 mph.\n"
     ]
    }
   ],
   "source": [
    "print(f'Currently in {place}, located in the {region} region of {country}, wind speed is {wind} mph.')"
   ]
  },
  {
   "cell_type": "code",
   "execution_count": 10,
   "metadata": {},
   "outputs": [
    {
     "name": "stdout",
     "output_type": "stream",
     "text": [
      "It feels 3.1 F° colder than the actual temperature\n"
     ]
    }
   ],
   "source": [
    "if data['current']['temp_f'] > data['current']['feelslike_f']:\n",
    "    print(f'It feels {dif_F} F° colder than the actual temperature')\n",
    "elif data['current']['temp_f'] < data['current']['feelslike_f']:\n",
    "    print(f'It feels {dif_F} F° warmer than the actual temperature')\n",
    "else:\n",
    "    print(f\"Current temperature matches the temperature you feel, which is {data['current']['temp_f']} F°.\")"
   ]
  },
  {
   "cell_type": "markdown",
   "metadata": {},
   "source": [
    "## 3) What is the API endpoint for moon-related information? For the place you decided on above, how much of the moon will be visible tomorrow?\n",
    "\n",
    "- *Tip: Check the documentation!*\n",
    "- *Tip: If you aren't sure what something means, ask in Slack*"
   ]
  },
  {
   "cell_type": "markdown",
   "metadata": {},
   "source": [
    "Moon-related information is available at http://api.weatherapi.com/v1/astronomy.json"
   ]
  },
  {
   "cell_type": "code",
   "execution_count": 11,
   "metadata": {},
   "outputs": [
    {
     "name": "stdout",
     "output_type": "stream",
     "text": [
      "On 2023-06-14, 18 percent of the moon will be visible.\n"
     ]
    }
   ],
   "source": [
    "day = '2023-06-14'\n",
    "\n",
    "url_astro = f'http://api.weatherapi.com/v1/astronomy.json?key={key}&q={query}&dt={day}'\n",
    "\n",
    "response_astro = requests.get(url_astro)\n",
    "data_astro = response_astro.json()\n",
    "\n",
    "location = data_astro['location']['name']\n",
    "moon = data_astro['astronomy']['astro']['moon_illumination']\n",
    "\n",
    "print(f'On {day}, {moon} percent of the moon will be visible.')"
   ]
  },
  {
   "cell_type": "markdown",
   "metadata": {},
   "source": [
    "## 4) What's the difference between the high and low temperatures for today?\n",
    "\n",
    "- *Tip: When you requested moon data, you probably overwrote your variables! If so, you'll need to make a new request.*"
   ]
  },
  {
   "cell_type": "code",
   "execution_count": 12,
   "metadata": {},
   "outputs": [],
   "source": [
    "day = '2023-06-13'\n",
    "\n",
    "n = 1\n",
    "\n",
    "url_forecast = f\"http://api.weatherapi.com/v1/forecast.json?key={key}&q={query}&days={n}\"\n",
    "response_forecast = requests.get(url_forecast)\n",
    "data_forecast = response_forecast.json()\n",
    "\n",
    "max_temp = data_forecast['forecast']['forecastday'][0]['day']['maxtemp_f']\n",
    "min_temp = data_forecast['forecast']['forecastday'][0]['day']['mintemp_f']\n",
    "dif_temp = max_temp - min_temp"
   ]
  },
  {
   "cell_type": "code",
   "execution_count": 13,
   "metadata": {},
   "outputs": [
    {
     "name": "stdout",
     "output_type": "stream",
     "text": [
      "The difference between the high and low temperatures for today is 20.9 F°.\n"
     ]
    }
   ],
   "source": [
    "print(f'The difference between the high and low temperatures for today is {dif_temp:.1f} F°.')"
   ]
  },
  {
   "cell_type": "markdown",
   "metadata": {
    "collapsed": true
   },
   "source": [
    "## 4.5) How can you avoid the \"oh no I don't have the data any more because I made another request\" problem in the future?\n",
    "\n",
    "What variable(s) do you have to rename, and what would you rename them?"
   ]
  },
  {
   "cell_type": "markdown",
   "metadata": {},
   "source": [
    "I would need to rename the variables I use for making my main requests, such as `url`, `response` and `data`."
   ]
  },
  {
   "cell_type": "markdown",
   "metadata": {},
   "source": [
    "A good way of renaming them might be using words specific of the task that I'm trying to accomplish.\n",
    "For example, `url_astro`, `response_astro` and `data_astro` while dealing with the astronomy API endpoint. While for the forecast, I will use `url_forecast`, `response_forecast` and `data_forecast`."
   ]
  },
  {
   "cell_type": "markdown",
   "metadata": {},
   "source": [
    "## 5) Go through the daily forecasts, printing out the next three days' worth of predictions.\n",
    "\n",
    "I'd like to know the **high temperature** for each day, and whether it's **hot, warm, or cold** (based on what temperatures you think are hot, warm or cold).\n",
    "\n",
    "- *Tip: You'll need to use an `if` statement to say whether it is hot, warm or cold.*"
   ]
  },
  {
   "cell_type": "code",
   "execution_count": 14,
   "metadata": {},
   "outputs": [
    {
     "name": "stdout",
     "output_type": "stream",
     "text": [
      "On 2023-06-13 the maximum temperature is going to be 57.4 F, which is warm!\n",
      "On 2023-06-14 the maximum temperature is going to be 50.9 F, which is warm!\n",
      "On 2023-06-15 the maximum temperature is going to be 55.8 F, which is warm!\n"
     ]
    }
   ],
   "source": [
    "n = 3\n",
    "\n",
    "url_forecast = f\"http://api.weatherapi.com/v1/forecast.json?key={key}&q={query}&days={n}\"\n",
    "response_forecast = requests.get(url_forecast)\n",
    "data_forecast = response_forecast.json()\n",
    "\n",
    "for day in (data_forecast['forecast']['forecastday']):\n",
    "    if day['day']['maxtemp_f'] > 80:\n",
    "        print(f\"On {day['date']} the maximum temperature is going to be {day['day']['maxtemp_f']} F, which is hot!\")\n",
    "    elif day['day']['maxtemp_f'] > 50:\n",
    "        print(f\"On {day['date']} the maximum temperature is going to be {day['day']['maxtemp_f']} F, which is warm!\")\n",
    "    else:\n",
    "        print(f\"On {day['date']} the maximum temperature is going to be {day['day']['maxtemp_f']} F, which is cold!\")"
   ]
  },
  {
   "cell_type": "markdown",
   "metadata": {},
   "source": [
    "## 5b) The question above used to be an entire week, but not any more. Try to re-use the code above to print out seven days.\n",
    "\n",
    "What happens? Can you figure out why it doesn't work?\n",
    "\n",
    "* *Tip: it has to do with the reason you're using an API key - maybe take a look at the \"Air Quality Data\" introduction for a hint? If you can't figure it out right now, no worries.*"
   ]
  },
  {
   "cell_type": "code",
   "execution_count": 15,
   "metadata": {},
   "outputs": [
    {
     "name": "stdout",
     "output_type": "stream",
     "text": [
      "On 2023-06-13 the maximum temperature is going to be 57.4 F, which is warm!\n",
      "On 2023-06-14 the maximum temperature is going to be 50.9 F, which is warm!\n",
      "On 2023-06-15 the maximum temperature is going to be 55.8 F, which is warm!\n",
      "On 2023-06-16 the maximum temperature is going to be 57.2 F, which is warm!\n",
      "On 2023-06-17 the maximum temperature is going to be 56.8 F, which is warm!\n",
      "On 2023-06-18 the maximum temperature is going to be 57.6 F, which is warm!\n",
      "On 2023-06-19 the maximum temperature is going to be 59.4 F, which is warm!\n"
     ]
    }
   ],
   "source": [
    "n = 7\n",
    "\n",
    "url_forecast = f\"http://api.weatherapi.com/v1/forecast.json?key={key}&q={query}&days={n}\"\n",
    "response_forecast = requests.get(url_forecast)\n",
    "data_forecast = response_forecast.json()\n",
    "\n",
    "for day in (data_forecast['forecast']['forecastday']):\n",
    "    if day['day']['maxtemp_f'] > 86:\n",
    "        print(f\"On {day['date']} the maximum temperature is going to be {day['day']['maxtemp_f']} F, which is hot!\")\n",
    "    elif day['day']['maxtemp_f'] > 50:\n",
    "        print(f\"On {day['date']} the maximum temperature is going to be {day['day']['maxtemp_f']} F, which is warm!\")\n",
    "    else:\n",
    "        print(f\"On {day['date']} the maximum temperature is going to be {day['day']['maxtemp_f']} F, which is cold!\")"
   ]
  },
  {
   "cell_type": "markdown",
   "metadata": {},
   "source": [
    "## 6) What will be the hottest day in the next three days? What is the high temperature on that day?"
   ]
  },
  {
   "cell_type": "code",
   "execution_count": 16,
   "metadata": {},
   "outputs": [
    {
     "name": "stdout",
     "output_type": "stream",
     "text": [
      "The hottest day in the next 3 days is going to be 2023-06-13, with 57.4 F.\n"
     ]
    }
   ],
   "source": [
    "n = 3\n",
    "\n",
    "url_forecast = f\"http://api.weatherapi.com/v1/forecast.json?key={key}&q={query}&days={n}\"\n",
    "response_forecast = requests.get(url_forecast)\n",
    "data_forecast = response_forecast.json()\n",
    "\n",
    "t = 0\n",
    "\n",
    "for day in (data_forecast['forecast']['forecastday']):\n",
    "    if day['day']['maxtemp_f'] > t:\n",
    "        t = day['day']['maxtemp_f']\n",
    "        d = day['date']\n",
    "    \n",
    "print(f\"The hottest day in the next {n} days is going to be {d}, with {t} F.\")"
   ]
  },
  {
   "cell_type": "markdown",
   "metadata": {},
   "source": [
    "## 7) What's the weather looking like for the next 24+ hours in Miami, Florida?\n",
    "\n",
    "I'd like to know the temperature for every hour, and if it's going to have cloud cover of more than 50% say \"{temperature} and cloudy\" instead of just the temperature. \n",
    "\n",
    "- *Tip: You'll only need one day of forecast*"
   ]
  },
  {
   "cell_type": "code",
   "execution_count": 17,
   "metadata": {},
   "outputs": [
    {
     "name": "stdout",
     "output_type": "stream",
     "text": [
      "At 2023-06-13 00:00 is going to be 83.5 and cloudy.\n",
      "At 2023-06-13 01:00 is going to be 82.9 and cloudy.\n",
      "At 2023-06-13 02:00 is going to be 82.9 and cloudy.\n",
      "At 2023-06-13 03:00 is going to be 82.6.\n",
      "At 2023-06-13 04:00 is going to be 82.8.\n",
      "At 2023-06-13 05:00 is going to be 81.9.\n",
      "At 2023-06-13 06:00 is going to be 81.7.\n",
      "At 2023-06-13 07:00 is going to be 81.9.\n",
      "At 2023-06-13 08:00 is going to be 82.6 and cloudy.\n",
      "At 2023-06-13 09:00 is going to be 83.8.\n",
      "At 2023-06-13 10:00 is going to be 85.3 and cloudy.\n",
      "At 2023-06-13 11:00 is going to be 92.5 and cloudy.\n",
      "At 2023-06-13 12:00 is going to be 91.2.\n",
      "At 2023-06-13 13:00 is going to be 94.8.\n",
      "At 2023-06-13 14:00 is going to be 92.1 and cloudy.\n",
      "At 2023-06-13 15:00 is going to be 91.8 and cloudy.\n",
      "At 2023-06-13 16:00 is going to be 90.9 and cloudy.\n",
      "At 2023-06-13 17:00 is going to be 89.2 and cloudy.\n",
      "At 2023-06-13 18:00 is going to be 88.0.\n",
      "At 2023-06-13 19:00 is going to be 86.2 and cloudy.\n",
      "At 2023-06-13 20:00 is going to be 83.7.\n",
      "At 2023-06-13 21:00 is going to be 83.3 and cloudy.\n",
      "At 2023-06-13 22:00 is going to be 83.5 and cloudy.\n",
      "At 2023-06-13 23:00 is going to be 83.7 and cloudy.\n"
     ]
    }
   ],
   "source": [
    "n = 1\n",
    "query = 'Miami'\n",
    "\n",
    "url_forecast = f\"http://api.weatherapi.com/v1/forecast.json?key={key}&q={query}&days={n}\"\n",
    "response_forecast = requests.get(url_forecast)\n",
    "data_forecast = response_forecast.json()\n",
    "\n",
    "for hour in data_forecast['forecast']['forecastday'][0]['hour']:\n",
    "    if hour['cloud'] > 50:\n",
    "            print(f\"At {hour['time']} is going to be {hour['temp_f']} and cloudy.\")\n",
    "    else:\n",
    "        print(f\"At {hour['time']} is going to be {hour['temp_f']}.\")"
   ]
  },
  {
   "cell_type": "markdown",
   "metadata": {},
   "source": [
    "## 8) For the next 24-ish hours in Miami, what percent of the time is the temperature above 85 degrees?\n",
    "\n",
    "- *Tip: You might want to read up on [looping patterns](http://jonathansoma.com/lede/foundations-2017/classes/data%20structures/looping-patterns/)*"
   ]
  },
  {
   "cell_type": "code",
   "execution_count": 16,
   "metadata": {},
   "outputs": [
    {
     "name": "stdout",
     "output_type": "stream",
     "text": [
      "For the next 24 hours, in Miami the temperature is going to be above 85 degrees for the 41.67 percent of the time.\n"
     ]
    }
   ],
   "source": [
    "n = 0\n",
    "\n",
    "for hour in data_forecast['forecast']['forecastday'][0]['hour']:\n",
    "    if hour['temp_f'] > 85:\n",
    "        n = n + 1\n",
    "        \n",
    "percent = round(n/24*100,2)\n",
    "\n",
    "print(f'For the next 24 hours, in Miami the temperature is going to be above 85 degrees for the {percent} percent of the time.')\n",
    "    \n",
    "#     print(hour['temp_f'])\n",
    "    \n",
    "# if hour['temp_f'] > 85:"
   ]
  },
  {
   "cell_type": "markdown",
   "metadata": {},
   "source": [
    "## 9) How much will it cost if you need to use 1,500,000 API calls?\n",
    "\n",
    "You are only allowed 1,000,000 API calls each month. If you were really bad at this homework or made some awful loops, WeatherAPI might shut down your free access. \n",
    "\n",
    "* *Tip: this involves looking somewhere that isn't the normal documentation.*"
   ]
  },
  {
   "cell_type": "markdown",
   "metadata": {},
   "source": [
    "It will cost me 4 dollars a month, that's not a bad deal!\n",
    "\n",
    "Source: https://www.weatherapi.com/pricing.aspx"
   ]
  },
  {
   "cell_type": "markdown",
   "metadata": {},
   "source": [
    "## 10) You're too poor to spend more money! What else could you do instead of give them money?\n",
    "\n",
    "* *Tip: I'm not endorsing being sneaky, but newsrooms and students are both generally poverty-stricken.*"
   ]
  },
  {
   "cell_type": "markdown",
   "metadata": {},
   "source": [
    "Create different accounts and different API Keys, then store them in a list and then iterate from one to the other before hitting the 1M limit!"
   ]
  },
  {
   "cell_type": "markdown",
   "metadata": {},
   "source": [
    "something like\n",
    "\n",
    "API1 = 'insert API here'\n",
    "API2 = 'insert API2 here'\n",
    "API3 = 'insert API3 here'\n",
    "\n",
    "apis = [API1, API2, API3]\n",
    "\n",
    "n = 0\n",
    "\n",
    "url = f\"http://api.weatherapi.com/v1/forecast.json?key={apis[n]}&q={query}\"\n",
    "\n",
    "if: n < 999999:\n",
    "        response = requests.get(url_forecast)\n",
    "        data = response_forecast.json()\n",
    "        \n",
    "        #All my loops here\n",
    "        \n",
    "        n = n + 1\n",
    "        \n",
    "elif: n < (999999*2)\n",
    "        response = requests.get(url_forecast)\n",
    "        data = response_forecast.json()\n",
    "        \n",
    "        #etc. Something like that."
   ]
  }
 ],
 "metadata": {
  "kernelspec": {
   "display_name": "Python 3 (ipykernel)",
   "language": "python",
   "name": "python3"
  },
  "language_info": {
   "codemirror_mode": {
    "name": "ipython",
    "version": 3
   },
   "file_extension": ".py",
   "mimetype": "text/x-python",
   "name": "python",
   "nbconvert_exporter": "python",
   "pygments_lexer": "ipython3",
   "version": "3.10.11"
  }
 },
 "nbformat": 4,
 "nbformat_minor": 1
}
