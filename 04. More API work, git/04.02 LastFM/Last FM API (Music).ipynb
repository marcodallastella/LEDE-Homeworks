{
 "cells": [
  {
   "cell_type": "markdown",
   "metadata": {},
   "source": [
    "# Last FM API (Music)\n",
    "\n",
    "Spotify's API is dead to us, so we're using Last.fm's - it's still music, just not as nice of an API.\n",
    "\n",
    "1. Create an account at https://www.last.fm/api/\n",
    "2. Create an \"application\" to get a key: https://www.last.fm/api/account/create\n",
    "    - It isn't a real application, it's just your project\n",
    "    - Name/description doesn't matter, ignore callback key and callback url\n",
    "3. And save the API key that shows up on the next screen\n",
    "\n",
    "You can find documentation at https://www.last.fm/api/\n",
    "\n",
    "The domain for the API is `http://ws.audioscrobbler.com`, so all of your endpoints will be connected to that. To test your API key, check the following URL in your browser: `http://ws.audioscrobbler.com/2.0/?method=artist.search&artist=cher&api_key=XXXXXXXXXXXXXXXXXXXX&format=json` (change the `XXXXXX` to be your API key, of course!).\n",
    "\n",
    "> Last.fm used to be called **AudioScrobbler**, which is why its URLs don't have \"last.fm\" in them.\n",
    "> While we're asking about URLs, notice that the API endpoints have a lot of `?` and `&` in them - these are key/value pairs, kind of like dictionaries, but for URLs instead of Python."
   ]
  },
  {
   "cell_type": "markdown",
   "metadata": {},
   "source": [
    "# FIRST: SETUP"
   ]
  },
  {
   "cell_type": "markdown",
   "metadata": {},
   "source": [
    "## 1) Import the libraries/packages you might need\n",
    "\n",
    "We need a library to read in the data for us! We don't like `urllib2`, so it must be something cooler and better."
   ]
  },
  {
   "cell_type": "code",
   "execution_count": 2,
   "metadata": {},
   "outputs": [
    {
     "data": {
      "text/plain": [
       "True"
      ]
     },
     "execution_count": 2,
     "metadata": {},
     "output_type": "execute_result"
    }
   ],
   "source": [
    "# Import what you need here\n",
    "import requests\n",
    "import json\n",
    "from dotenv import load_dotenv\n",
    "import os\n",
    "\n",
    "load_dotenv()  # take environment variables from .env."
   ]
  },
  {
   "cell_type": "markdown",
   "metadata": {},
   "source": [
    "## 2) Save your API key\n",
    "\n",
    "Write your API key here so you don't forget it - it's the \"api key\" one, not the \"shared secret\" one"
   ]
  },
  {
   "cell_type": "code",
   "execution_count": 3,
   "metadata": {},
   "outputs": [],
   "source": [
    "key = os.getenv(\"key\")"
   ]
  },
  {
   "cell_type": "markdown",
   "metadata": {},
   "source": [
    "## 3) The death of an API\n",
    "\n",
    "I used to have some code here that allowed you to display images, but _the images don't work any more._ Let this be an important lesson: when you depend on external services, they can die at any time."
   ]
  },
  {
   "cell_type": "code",
   "execution_count": null,
   "metadata": {},
   "outputs": [],
   "source": []
  },
  {
   "cell_type": "markdown",
   "metadata": {},
   "source": [
    "# NOW: YOUR ASSIGNMENT"
   ]
  },
  {
   "cell_type": "markdown",
   "metadata": {},
   "source": [
    "## 1) Search for and print a list of 50 musicians with `lil` in their name, along with the number of listeners they have\n",
    "\n",
    "There are a lot of musicians with \"Lil\" in their name - it used to be all Lil Wayne and Lil Kim, but we live in a new world now!\n",
    "\n",
    "- *Tip: Remember, the domain for the API is `http://ws.audioscrobbler.com`*\n",
    "- *Tip: Make sure you ask the API for 50 musicians! This involves adding another parameter to the URL - notice they all have a `&` before them. [Read the documentation](http://www.last.fm/api/show/artist.search) to find the parameter's name.* \n",
    "- *Tip: When you are looking at any piece of data - is it a dictionary? Look at the keys! Is it a list? Look at the first element!*\n",
    "- *Tip: LOOK AT THE KEYS. and then the other keys and the other keys and the other keys. It's an ugly series of dictionaries!*"
   ]
  },
  {
   "cell_type": "code",
   "execution_count": 4,
   "metadata": {},
   "outputs": [
    {
     "name": "stdout",
     "output_type": "stream",
     "text": [
      "LIL UZI VERT has 1,434,033 listeners.\n",
      "LIL PEEP has 1,123,657 listeners.\n",
      "Lil Nas X has 1,739,725 listeners.\n",
      "Lil Baby has 879,669 listeners.\n",
      "Lil Yachty has 956,658 listeners.\n",
      "Lil Tecca has 725,686 listeners.\n",
      "Lil Wayne has 1,027,303 listeners.\n",
      "Lil Durk has 578,396 listeners.\n",
      "lil tjay has 574,729 listeners.\n",
      "lil skies has 490,167 listeners.\n",
      "Lil Darkie has 322,993 listeners.\n",
      "Lil Ugly Mane has 259,263 listeners.\n",
      "lil Mosey has 591,080 listeners.\n",
      "Lil B has 387,581 listeners.\n",
      "LIL PUMP has 501,240 listeners.\n",
      "LIL TRACY has 208,021 listeners.\n",
      "Lil Keed has 239,597 listeners.\n",
      "Lil Dicky has 459,886 listeners.\n",
      "Lil Xan has 323,332 listeners.\n",
      "Lil Shine has 49,197 listeners.\n",
      "Lil Loaded has 157,008 listeners.\n",
      "LIL GNAR has 242,852 listeners.\n",
      "lil mabu has 159,270 listeners.\n",
      "LIL DUSTY G has 133,657 listeners.\n",
      "Lil Jon & The East Side Boyz has 669,355 listeners.\n",
      "Lil Revive has 46,555 listeners.\n",
      "Lil Jon has 697,777 listeners.\n",
      "Lil Eazzyy has 175,158 listeners.\n",
      "LIL BO WEEP has 94,482 listeners.\n",
      "Lil Aaron has 142,545 listeners.\n",
      "Lil Kleine has 96,447 listeners.\n",
      "Lil Gotit has 81,259 listeners.\n",
      "Lil Candy Paint has 125,527 listeners.\n",
      "Lil Boodang has 120,527 listeners.\n",
      "Lil Mariko has 98,090 listeners.\n",
      "Lil Lotus has 69,803 listeners.\n",
      "Lil God Dan has 77,347 listeners.\n",
      "Lil Boosie has 422,435 listeners.\n",
      "lil happy lil sad has 66,507 listeners.\n",
      "Lil Zey has 20,679 listeners.\n",
      "Lil Double 0 has 49,176 listeners.\n",
      "Lil Cobaine has 102,898 listeners.\n",
      "Lil Wyte has 277,085 listeners.\n",
      "Lil Toe has 92,846 listeners.\n",
      "Lil Xtra has 38,862 listeners.\n",
      "Lil Lano has 22,071 listeners.\n",
      "Lil Yawh has 60,967 listeners.\n",
      "lil skele has 13,969 listeners.\n",
      "Lil Supa has 20,220 listeners.\n",
      "lil krystalll has 18,265 listeners.\n",
      "50\n"
     ]
    }
   ],
   "source": [
    "endpoint = 'http://ws.audioscrobbler.com/2.0/?'\n",
    "method = 'artist.search'\n",
    "artist = 'lil ' # I'm using 'lil ' instead of 'lil', which will definetly increase the percentage of rappers!\n",
    "\n",
    "n = 0\n",
    "\n",
    "url_search = f\"{endpoint}method={method}&artist={artist}&api_key={key}&limit=50&format=json\"\n",
    "response = requests.get(url_search)\n",
    "data_artist = response.json()\n",
    "\n",
    "for artist in data_artist['results']['artistmatches']['artist']:\n",
    "    print(f\"{artist['name']} has {int(artist['listeners']):,} listeners.\")\n",
    "    n = n + 1\n",
    "    \n",
    "print(n)"
   ]
  },
  {
   "cell_type": "markdown",
   "metadata": {},
   "source": [
    "Your results should begin something like this:\n",
    "    \n",
    "```\n",
    "Lil' Wayne has 3086628 listeners\n",
    "Lily Allen has 2074266 listeners\n",
    "Lil B has 194116 listeners\n",
    "Lilly Wood & The Prick has 359886 listeners\n",
    "Lil Ugly Mane has 31955 listeners\n",
    "LIL UZI VERT has 88517 listeners\n",
    "```"
   ]
  },
  {
   "cell_type": "markdown",
   "metadata": {},
   "source": [
    "## 2) How many listeners does your list have in total?\n",
    "\n",
    "The answer should be roughly **15,000,000**. If it's lower, make sure you have 50 artists instead of 30 artists.\n",
    "\n",
    "- *Tip: What's the data type of the `listeners` count? It's going to cause a problem!*\n",
    "- *Tip: If you were crazy you could use sum and a list comprehension. But you really don't have to!*"
   ]
  },
  {
   "cell_type": "code",
   "execution_count": 5,
   "metadata": {},
   "outputs": [
    {
     "name": "stdout",
     "output_type": "stream",
     "text": [
      "My list has a total of 17,265,852 listeners.\n"
     ]
    }
   ],
   "source": [
    "listeners_tot = 0\n",
    "\n",
    "for artist in data_artist['results']['artistmatches']['artist']:\n",
    "    listeners_tot = listeners_tot + int(artist['listeners'])\n",
    "    \n",
    "print(f\"My list has a total of {listeners_tot:,} listeners.\")"
   ]
  },
  {
   "cell_type": "code",
   "execution_count": 6,
   "metadata": {},
   "outputs": [
    {
     "name": "stdout",
     "output_type": "stream",
     "text": [
      "My list have a total of 17,265,852 listeners.\n"
     ]
    }
   ],
   "source": [
    "listeners_tot = sum(int(artist['listeners']) for artist in data_artist['results']['artistmatches']['artist'])\n",
    "print(f\"My list have a total of {listeners_tot:,} listeners.\")\n",
    "\n",
    "# Ok I cheated and had ChatGPT help me on this one. But only on this one and only because I hate list comprehension."
   ]
  },
  {
   "cell_type": "markdown",
   "metadata": {},
   "source": [
    "## 3) Show each artist's name and the URL to the extra-large image\n",
    "\n",
    "The images don't work any more, but we'll print their URLs out anyway."
   ]
  },
  {
   "cell_type": "markdown",
   "metadata": {},
   "source": [
    "Each artist **has a list of images of different sizes**. We're interested in the second-to-last one, where `size` is `extralarge`. Print their name and use `display_image` to display their extra-large image.\n",
    "\n",
    "- *Tip: The URL should look like this: `https://lastfm-img2.akamaized.net/i/u/300x300/0fc7d7a1812dc79e9925d80382cde594.png`*\n",
    "- *Tip: You can always assume it's the second to the last, or assume it's `extralarge`, or whatever you want to do to find it.*\n",
    "- *Tip: Make sure the URL is correct before you try to display it.*\n",
    "\n",
    "Your output should look something like\n",
    "\n",
    "```\n",
    "Lil' Wayne\n",
    "https://lastfm.freetls.fastly.net/i/u/300x300/2a96cbd8b46e442fc41c2b86b821562f.png\n",
    "---\n",
    "LIL UZI VERT\n",
    "https://lastfm.freetls.fastly.net/i/u/300x300/2a96cbd8b46e442fc41c2b86b821562f.png\n",
    "---\n",
    "Lily Allen\n",
    "https://lastfm.freetls.fastly.net/i/u/300x300/2a96cbd8b46e442fc41c2b86b821562f.png\n",
    "---\n",
    "```\n",
    "\n",
    "(but with more people, obviously)"
   ]
  },
  {
   "cell_type": "code",
   "execution_count": 7,
   "metadata": {},
   "outputs": [
    {
     "name": "stdout",
     "output_type": "stream",
     "text": [
      "LIL UZI VERT\n",
      "https://lastfm.freetls.fastly.net/i/u/300x300/2a96cbd8b46e442fc41c2b86b821562f.png\n",
      "---\n",
      "LIL PEEP\n",
      "https://lastfm.freetls.fastly.net/i/u/300x300/2a96cbd8b46e442fc41c2b86b821562f.png\n",
      "---\n",
      "Lil Nas X\n",
      "https://lastfm.freetls.fastly.net/i/u/300x300/2a96cbd8b46e442fc41c2b86b821562f.png\n",
      "---\n",
      "Lil Baby\n",
      "https://lastfm.freetls.fastly.net/i/u/300x300/2a96cbd8b46e442fc41c2b86b821562f.png\n",
      "---\n",
      "Lil Yachty\n",
      "https://lastfm.freetls.fastly.net/i/u/300x300/2a96cbd8b46e442fc41c2b86b821562f.png\n",
      "---\n",
      "Lil Tecca\n",
      "https://lastfm.freetls.fastly.net/i/u/300x300/2a96cbd8b46e442fc41c2b86b821562f.png\n",
      "---\n",
      "Lil Wayne\n",
      "https://lastfm.freetls.fastly.net/i/u/300x300/2a96cbd8b46e442fc41c2b86b821562f.png\n",
      "---\n",
      "Lil Durk\n",
      "https://lastfm.freetls.fastly.net/i/u/300x300/2a96cbd8b46e442fc41c2b86b821562f.png\n",
      "---\n",
      "lil tjay\n",
      "https://lastfm.freetls.fastly.net/i/u/300x300/2a96cbd8b46e442fc41c2b86b821562f.png\n",
      "---\n",
      "lil skies\n",
      "https://lastfm.freetls.fastly.net/i/u/300x300/2a96cbd8b46e442fc41c2b86b821562f.png\n",
      "---\n",
      "Lil Darkie\n",
      "https://lastfm.freetls.fastly.net/i/u/300x300/2a96cbd8b46e442fc41c2b86b821562f.png\n",
      "---\n",
      "Lil Ugly Mane\n",
      "https://lastfm.freetls.fastly.net/i/u/300x300/2a96cbd8b46e442fc41c2b86b821562f.png\n",
      "---\n",
      "lil Mosey\n",
      "https://lastfm.freetls.fastly.net/i/u/300x300/2a96cbd8b46e442fc41c2b86b821562f.png\n",
      "---\n",
      "Lil B\n",
      "https://lastfm.freetls.fastly.net/i/u/300x300/2a96cbd8b46e442fc41c2b86b821562f.png\n",
      "---\n",
      "LIL PUMP\n",
      "https://lastfm.freetls.fastly.net/i/u/300x300/2a96cbd8b46e442fc41c2b86b821562f.png\n",
      "---\n",
      "LIL TRACY\n",
      "https://lastfm.freetls.fastly.net/i/u/300x300/2a96cbd8b46e442fc41c2b86b821562f.png\n",
      "---\n",
      "Lil Keed\n",
      "https://lastfm.freetls.fastly.net/i/u/300x300/2a96cbd8b46e442fc41c2b86b821562f.png\n",
      "---\n",
      "Lil Dicky\n",
      "https://lastfm.freetls.fastly.net/i/u/300x300/2a96cbd8b46e442fc41c2b86b821562f.png\n",
      "---\n",
      "Lil Xan\n",
      "https://lastfm.freetls.fastly.net/i/u/300x300/2a96cbd8b46e442fc41c2b86b821562f.png\n",
      "---\n",
      "Lil Shine\n",
      "https://lastfm.freetls.fastly.net/i/u/300x300/2a96cbd8b46e442fc41c2b86b821562f.png\n",
      "---\n",
      "Lil Loaded\n",
      "https://lastfm.freetls.fastly.net/i/u/300x300/2a96cbd8b46e442fc41c2b86b821562f.png\n",
      "---\n",
      "LIL GNAR\n",
      "https://lastfm.freetls.fastly.net/i/u/300x300/2a96cbd8b46e442fc41c2b86b821562f.png\n",
      "---\n",
      "lil mabu\n",
      "https://lastfm.freetls.fastly.net/i/u/300x300/2a96cbd8b46e442fc41c2b86b821562f.png\n",
      "---\n",
      "LIL DUSTY G\n",
      "https://lastfm.freetls.fastly.net/i/u/300x300/2a96cbd8b46e442fc41c2b86b821562f.png\n",
      "---\n",
      "Lil Jon & The East Side Boyz\n",
      "https://lastfm.freetls.fastly.net/i/u/300x300/2a96cbd8b46e442fc41c2b86b821562f.png\n",
      "---\n",
      "Lil Revive\n",
      "https://lastfm.freetls.fastly.net/i/u/300x300/2a96cbd8b46e442fc41c2b86b821562f.png\n",
      "---\n",
      "Lil Jon\n",
      "https://lastfm.freetls.fastly.net/i/u/300x300/2a96cbd8b46e442fc41c2b86b821562f.png\n",
      "---\n",
      "Lil Eazzyy\n",
      "https://lastfm.freetls.fastly.net/i/u/300x300/2a96cbd8b46e442fc41c2b86b821562f.png\n",
      "---\n",
      "LIL BO WEEP\n",
      "https://lastfm.freetls.fastly.net/i/u/300x300/2a96cbd8b46e442fc41c2b86b821562f.png\n",
      "---\n",
      "Lil Aaron\n",
      "https://lastfm.freetls.fastly.net/i/u/300x300/2a96cbd8b46e442fc41c2b86b821562f.png\n",
      "---\n",
      "Lil Kleine\n",
      "https://lastfm.freetls.fastly.net/i/u/300x300/2a96cbd8b46e442fc41c2b86b821562f.png\n",
      "---\n",
      "Lil Gotit\n",
      "https://lastfm.freetls.fastly.net/i/u/300x300/2a96cbd8b46e442fc41c2b86b821562f.png\n",
      "---\n",
      "Lil Candy Paint\n",
      "https://lastfm.freetls.fastly.net/i/u/300x300/2a96cbd8b46e442fc41c2b86b821562f.png\n",
      "---\n",
      "Lil Boodang\n",
      "https://lastfm.freetls.fastly.net/i/u/300x300/2a96cbd8b46e442fc41c2b86b821562f.png\n",
      "---\n",
      "Lil Mariko\n",
      "https://lastfm.freetls.fastly.net/i/u/300x300/2a96cbd8b46e442fc41c2b86b821562f.png\n",
      "---\n",
      "Lil Lotus\n",
      "https://lastfm.freetls.fastly.net/i/u/300x300/2a96cbd8b46e442fc41c2b86b821562f.png\n",
      "---\n",
      "Lil God Dan\n",
      "https://lastfm.freetls.fastly.net/i/u/300x300/2a96cbd8b46e442fc41c2b86b821562f.png\n",
      "---\n",
      "Lil Boosie\n",
      "https://lastfm.freetls.fastly.net/i/u/300x300/2a96cbd8b46e442fc41c2b86b821562f.png\n",
      "---\n",
      "lil happy lil sad\n",
      "https://lastfm.freetls.fastly.net/i/u/300x300/2a96cbd8b46e442fc41c2b86b821562f.png\n",
      "---\n",
      "Lil Zey\n",
      "https://lastfm.freetls.fastly.net/i/u/300x300/2a96cbd8b46e442fc41c2b86b821562f.png\n",
      "---\n",
      "Lil Double 0\n",
      "https://lastfm.freetls.fastly.net/i/u/300x300/2a96cbd8b46e442fc41c2b86b821562f.png\n",
      "---\n",
      "Lil Cobaine\n",
      "https://lastfm.freetls.fastly.net/i/u/300x300/2a96cbd8b46e442fc41c2b86b821562f.png\n",
      "---\n",
      "Lil Wyte\n",
      "https://lastfm.freetls.fastly.net/i/u/300x300/2a96cbd8b46e442fc41c2b86b821562f.png\n",
      "---\n",
      "Lil Toe\n",
      "https://lastfm.freetls.fastly.net/i/u/300x300/2a96cbd8b46e442fc41c2b86b821562f.png\n",
      "---\n",
      "Lil Xtra\n",
      "https://lastfm.freetls.fastly.net/i/u/300x300/2a96cbd8b46e442fc41c2b86b821562f.png\n",
      "---\n",
      "Lil Lano\n",
      "https://lastfm.freetls.fastly.net/i/u/300x300/2a96cbd8b46e442fc41c2b86b821562f.png\n",
      "---\n",
      "Lil Yawh\n",
      "https://lastfm.freetls.fastly.net/i/u/300x300/2a96cbd8b46e442fc41c2b86b821562f.png\n",
      "---\n",
      "lil skele\n",
      "https://lastfm.freetls.fastly.net/i/u/300x300/2a96cbd8b46e442fc41c2b86b821562f.png\n",
      "---\n",
      "Lil Supa\n",
      "https://lastfm.freetls.fastly.net/i/u/300x300/2a96cbd8b46e442fc41c2b86b821562f.png\n",
      "---\n",
      "lil krystalll\n",
      "https://lastfm.freetls.fastly.net/i/u/300x300/2a96cbd8b46e442fc41c2b86b821562f.png\n",
      "---\n"
     ]
    }
   ],
   "source": [
    "for artist in data_artist['results']['artistmatches']['artist']:\n",
    "    print(artist['name'])\n",
    "    print(artist['image'][-2]['#text'])\n",
    "    print(\"---\")\n",
    "\n",
    "# print(data['results']['artistmatches']['artist'][0]['name'])\n",
    "\n",
    "# print(data['results']['artistmatches']['artist'][0]['image'][-2])"
   ]
  },
  {
   "cell_type": "markdown",
   "metadata": {},
   "source": [
    "## 4) Find Lil Jon's `mbid` (or anyone else's!).\n",
    "\n",
    "Oftentimes in an API, you can do a few things: you can **search** for items, and you can **see more information** about items. To find more information about the item, you need to use their **unique id**. In this dataset, it's called an `mbid` (MusicBrainz, I think - another company associated with last.fm!).\n",
    "\n",
    "Go through the artists and print their **name and mbid**. Find Lil Jon's `mbid`. I *wanted* Lil Uzi Vert's, but for some reason it isn't there. Then I wanted us to look at Lily Allen's, but I just couldn't bring myself to do that. If you'd rather do someone else, go for it."
   ]
  },
  {
   "cell_type": "code",
   "execution_count": 8,
   "metadata": {},
   "outputs": [
    {
     "name": "stdout",
     "output_type": "stream",
     "text": [
      "The mbid of Lil Wyte is 9b5ce0c1-1bc0-4ea2-a8d3-f5ee7af9eda8\n"
     ]
    }
   ],
   "source": [
    "q_artist = 'Lil Wyte'\n",
    "\n",
    "for artist_search in data_artist['results']['artistmatches']['artist']:\n",
    "#     print(artist['name'])\n",
    "#     print(artist['mbid'])\n",
    "    if artist_search['name'] == q_artist:\n",
    "        print(f\"The mbid of {q_artist} is {artist_search['mbid']}\")\n",
    "        \n",
    "        mbid = artist_search['mbid']\n",
    "        "
   ]
  },
  {
   "cell_type": "markdown",
   "metadata": {
    "collapsed": true
   },
   "source": [
    "## 5) Find the artist's name and bio using their `mbid`.\n",
    "\n",
    "It can either be Lil Jon or whoever you selected above.\n",
    "\n",
    "If you look at the [last.fm documentation](http://www.last.fm/api/show/artist.getInfo), you can see how to use the artist's `mbid` to find more information about them. Print **every tag associated with your artist**.\n",
    "\n",
    "- *Tip: It's a new request to the API*\n",
    "- *Tip: Use the `mbid`, and make sure you delete the `&name=Cher` from the sample endpoint*\n",
    "- *Tip: If you use `print` for the bio it looks a little nicer than it would otherwise*"
   ]
  },
  {
   "cell_type": "code",
   "execution_count": 9,
   "metadata": {},
   "outputs": [
    {
     "name": "stdout",
     "output_type": "stream",
     "text": [
      "Lil Wyte\n",
      "\n",
      "Patrick \"Pat\" Lanshaw (born October 6, 1982), better known by his stage name Lil Wyte, is an American rapper from Memphis, Tennessee. He was a member of the rap collective Hypnotize Minds. now the  main artist  on wyte  music and  the  owner  of the  lable  wyte  music\n",
      "\n",
      "\n",
      "Patrick Lanshaw, or Lil Wyte, is a member of the Memphis, Tennessee rap collective Hypnotize Camp Posse. Lil Wyte began his career with the all-white underground rap group Shelby Forest Clique. His first album Doubt Me Now, produced by DJ Paul & Juicy J of Three 6 Mafia, sold over 130,000 copies independently. The success from this album sparked interest with Warner Music Group which would result in a distribution deal for the Hypnotize Minds label and his second album, Phinally Phamous.\n",
      "\n",
      "His first album had an underground hit, especially popular with the drug sub-culture, for the song about abusing prescription pills, \"Oxy Cotton\". So far, both of his albums have carried on a rap tradition of having a Smokin' Song (a song detailing smoking marijuana) included on them. His first release actually had a song titled \"My Smokin' Song\" on it. He expanded on this theme with his second album having a song named \"My Drinking Song\". \n",
      "    <a href=\"https://www.last.fm/music/Lil+Wyte\">Read more on Last.fm</a>. User-contributed text is available under the Creative Commons By-SA License; additional terms may apply.\n"
     ]
    }
   ],
   "source": [
    "method = 'artist.getinfo'\n",
    "\n",
    "url_get = f\"{endpoint}method={method}&api_key={key}&mbid={mbid}&format=json\"\n",
    "response_get = requests.get(url_get)\n",
    "data_wyte = response_get.json()\n",
    "\n",
    "print(data_wyte['artist']['name'])\n",
    "print()\n",
    "print(data_wyte['artist']['bio']['content'])\n",
    "\n",
    "# n = 0\n",
    "# for artist in data['results']['artistmatches']['artist']:\n",
    "#     print(artist['name'])\n",
    "#     print(n)\n",
    "#     n = n+1"
   ]
  },
  {
   "cell_type": "markdown",
   "metadata": {
    "collapsed": true
   },
   "source": [
    "## 6) Print every tag of that artist"
   ]
  },
  {
   "cell_type": "code",
   "execution_count": 10,
   "metadata": {},
   "outputs": [
    {
     "name": "stdout",
     "output_type": "stream",
     "text": [
      "rap\n",
      "Hip-Hop\n",
      "Dirty South\n",
      "southern rap\n",
      "Gangsta Rap\n"
     ]
    }
   ],
   "source": [
    "for tag in data_wyte['artist']['tags']['tag']:\n",
    "    print(tag['name'])"
   ]
  },
  {
   "cell_type": "markdown",
   "metadata": {},
   "source": [
    "# GETTING A LITTLE CRAZY\n",
    "\n",
    "So you know your original list of musicians? I want to get tag data for ALL OF THEM. How are we going to do that?\n",
    "\n",
    "## 7) Find the mbids (again)\n",
    "\n",
    "If we have a musician with an mbid of `AAA-AAA-AAA`, we get their info from a url like `http://ws.audioscrobbler.com/blahblah/?api_key=12345&mbid=AAA-AAA-AAA`.\n",
    "\n",
    "|artist|url|\n",
    "|---|---|\n",
    "|`AAA-AAA-AAA`|`http://ws.audioscrobbler.com/blahblah/?api_key=12345&mbid=AAA-AAA-AAA`|\n",
    "|`BBB-BBB-BBB`|`http://ws.audioscrobbler.com/blahblah/?api_key=12345&mbid=BBB-BBB-BBB`|\n",
    "|`CCC-CCC-CCC`|`http://ws.audioscrobbler.com/blahblah/?api_key=12345&mbid=CCC-CCC-CCC`|\n",
    "\n",
    "I guess we should start trying to get a list of all of the mbids.\n",
    "\n",
    "**Loop through your artists, and print out the `mbid` for each artist**\n",
    "\n",
    "- *Tip: You probably need to request your artist search result data again, because you probably saved over `data` with your other API request. Maybe call it `artist_data` this time?*\n",
    "- *Tip: If the artist does NOT have an `mbid`, don't print it.*"
   ]
  },
  {
   "cell_type": "code",
   "execution_count": 11,
   "metadata": {},
   "outputs": [
    {
     "name": "stdout",
     "output_type": "stream",
     "text": [
      "ac9a487a-d9d2-4f27-bb23-0f4686488345\n",
      "c9cd225b-4883-428e-82c2-73e0b6282fb6\n",
      "5f1adfe1-4d07-4141-b181-79e5d379d539\n",
      "1550f952-c91b-40d7-9b4d-d26a259ee932\n",
      "3268f062-6e76-480a-a384-e1dd2a276afb\n",
      "d4c7d574-c8f8-4c7e-ab45-fc612df367ca\n",
      "243c6f61-d83b-4459-bebd-5899df0da111\n",
      "a95384b1-6aec-468c-ae0d-8c6daf87c4c2\n",
      "8ba17cf6-bec2-4ae4-9820-b1cda47adc08\n",
      "9b5ce0c1-1bc0-4ea2-a8d3-f5ee7af9eda8\n"
     ]
    }
   ],
   "source": [
    "for artist_all in data_artist['results']['artistmatches']['artist']:\n",
    "    if not artist_all['mbid'] == \"\":\n",
    "        print(artist_all['mbid'])"
   ]
  },
  {
   "cell_type": "markdown",
   "metadata": {},
   "source": [
    "Your results should look something like\n",
    "\n",
    "```\n",
    "6e0c7c0e-cba5-4c2c-a652-38f71ef5785d\n",
    "1550f952-c91b-40d7-9b4d-d26a259ee932\n",
    "1b72331b-3a97-4981-a81c-eeee9c275d28\n",
    "5f1adfe1-4d07-4141-b181-79e5d379d539\n",
    "a95384b1-6aec-468c-ae0d-8c6daf87c4c2\n",
    "bc1b5c95-e6d6-46b5-957a-5e8908b02c1e\n",
    "243c6f61-d83b-4459-bebd-5899df0da111\n",
    "```"
   ]
  },
  {
   "cell_type": "markdown",
   "metadata": {},
   "source": [
    "## 8) Saving those mbids\n",
    "\n",
    "For those `mbid` values, instead of printing them out, save them to a new list of just mbid values. Call this list `mbids`.\n",
    "\n",
    "- *Tip: Use `.append` to add a single element onto a list*"
   ]
  },
  {
   "cell_type": "code",
   "execution_count": 12,
   "metadata": {},
   "outputs": [
    {
     "name": "stdout",
     "output_type": "stream",
     "text": [
      "10\n"
     ]
    }
   ],
   "source": [
    "endpoint = 'http://ws.audioscrobbler.com/2.0/?'\n",
    "method = 'artist.search'\n",
    "artist = 'lil '\n",
    "\n",
    "mbids = []\n",
    "\n",
    "url_search = f\"{endpoint}method={method}&artist={artist}&api_key={key}&limit=50&format=json\"\n",
    "response = requests.get(url_search)\n",
    "data_artist = response.json()\n",
    "\n",
    "for artist in data_artist['results']['artistmatches']['artist']:\n",
    "    if not artist['mbid'] == \"\":\n",
    "        mbids.append(artist['mbid'])\n",
    "        \n",
    "print(len(mbids))"
   ]
  },
  {
   "cell_type": "markdown",
   "metadata": {},
   "source": [
    "Your results should look something like\n",
    "\n",
    "```['6e0c7c0e-cba5-4c2c-a652-38f71ef5785d',\n",
    " '1550f952-c91b-40d7-9b4d-d26a259ee932',\n",
    " '1b72331b-3a97-4981-a81c-eeee9c275d28',\n",
    " '5f1adfe1-4d07-4141-b181-79e5d379d539',\n",
    " 'a95384b1-6aec-468c-ae0d-8c6daf87c4c2',\n",
    " 'bc1b5c95-e6d6-46b5-957a-5e8908b02c1e',\n",
    " '243c6f61-d83b-4459-bebd-5899df0da111',\n",
    " '8ba17cf6-bec2-4ae4-9820-b1cda47adc08',\n",
    " 'ad29ae1c-2eda-4071-9dc8-31910e7e546c',\n",
    " '3268f062-6e76-480a-a384-e1dd2a276afb',\n",
    " '3ad4f6ec-253f-4050-8849-ca26266edfb8',\n",
    " '9b5ce0c1-1bc0-4ea2-a8d3-f5ee7af9eda8',\n",
    " '981d39fc-bd00-4cc6-ac67-6410f8b89098',\n",
    " 'b89f4c50-72f5-48ce-b08c-a643b191b24f',\n",
    " 'bc21df5c-3d79-479b-b638-8ddb5ecea403',\n",
    " 'c9cd225b-4883-428e-82c2-73e0b6282fb6',\n",
    " '9acaf734-b380-4c48-954c-a2cf1d7990a9',\n",
    " 'd4d5ae85-700c-4a55-8a39-7f923da07ef2',\n",
    " '77fafce8-a32f-4d42-bdce-266bbf913cee',\n",
    " '50ad1cde-1536-4268-a55f-e47a7b8280ab',\n",
    " '9803d120-716d-45ba-9eb7-9a120813f908',\n",
    " 'b27560ea-2783-4a91-be45-9e8711917562',\n",
    " '194e87c9-b3fe-4fbd-82a7-8c54b4dd4c76',\n",
    " 'fd90af91-ed07-4e85-8816-26c954fe5286',\n",
    " '5652bb3e-f225-49de-9637-5aa1539b4a7c']```"
   ]
  },
  {
   "cell_type": "markdown",
   "metadata": {},
   "source": [
    "## 9) Printing our API urls\n",
    "\n",
    "To get tag data for each artist, you need to use those `mbid` values to access their artist page on the API. Loop through the mbids, displying the URL you'll need to access.\n",
    "\n",
    "- *Tip: You don't want to use a comma when printing, because commas add spaces into your text and URLs can't have that*\n",
    "- *Tip: Make sure your URL has `artist.getinfo` in it - if not, you're using the wrong endpoint.*"
   ]
  },
  {
   "cell_type": "code",
   "execution_count": 13,
   "metadata": {},
   "outputs": [
    {
     "name": "stdout",
     "output_type": "stream",
     "text": [
      "http://ws.audioscrobbler.com/2.0/?method=artist.getinfo&api_key=d56cff0e6266e0c9c6a69630f0377b65&mbid=ac9a487a-d9d2-4f27-bb23-0f4686488345&format=json\n",
      "http://ws.audioscrobbler.com/2.0/?method=artist.getinfo&api_key=d56cff0e6266e0c9c6a69630f0377b65&mbid=c9cd225b-4883-428e-82c2-73e0b6282fb6&format=json\n",
      "http://ws.audioscrobbler.com/2.0/?method=artist.getinfo&api_key=d56cff0e6266e0c9c6a69630f0377b65&mbid=5f1adfe1-4d07-4141-b181-79e5d379d539&format=json\n",
      "http://ws.audioscrobbler.com/2.0/?method=artist.getinfo&api_key=d56cff0e6266e0c9c6a69630f0377b65&mbid=1550f952-c91b-40d7-9b4d-d26a259ee932&format=json\n",
      "http://ws.audioscrobbler.com/2.0/?method=artist.getinfo&api_key=d56cff0e6266e0c9c6a69630f0377b65&mbid=3268f062-6e76-480a-a384-e1dd2a276afb&format=json\n",
      "http://ws.audioscrobbler.com/2.0/?method=artist.getinfo&api_key=d56cff0e6266e0c9c6a69630f0377b65&mbid=d4c7d574-c8f8-4c7e-ab45-fc612df367ca&format=json\n",
      "http://ws.audioscrobbler.com/2.0/?method=artist.getinfo&api_key=d56cff0e6266e0c9c6a69630f0377b65&mbid=243c6f61-d83b-4459-bebd-5899df0da111&format=json\n",
      "http://ws.audioscrobbler.com/2.0/?method=artist.getinfo&api_key=d56cff0e6266e0c9c6a69630f0377b65&mbid=a95384b1-6aec-468c-ae0d-8c6daf87c4c2&format=json\n",
      "http://ws.audioscrobbler.com/2.0/?method=artist.getinfo&api_key=d56cff0e6266e0c9c6a69630f0377b65&mbid=8ba17cf6-bec2-4ae4-9820-b1cda47adc08&format=json\n",
      "http://ws.audioscrobbler.com/2.0/?method=artist.getinfo&api_key=d56cff0e6266e0c9c6a69630f0377b65&mbid=9b5ce0c1-1bc0-4ea2-a8d3-f5ee7af9eda8&format=json\n"
     ]
    }
   ],
   "source": [
    "method = 'artist.getinfo'\n",
    "\n",
    "for mbid in mbids:\n",
    "    url_get = f\"{endpoint}method={method}&api_key={key}&mbid={mbid}&format=json\"\n",
    "    print(url_get)"
   ]
  },
  {
   "cell_type": "markdown",
   "metadata": {},
   "source": [
    "Your results should look something like\n",
    "\n",
    "```http://ws.audioscrobbler.com/2.0/?method=artist.getinfo&api_key=XXXXX&format=json&mbid=6e0c7c0e-cba5-4c2c-a652-38f71ef5785d\n",
    "http://ws.audioscrobbler.com/2.0/?method=artist.getinfo&api_key=XXXXX&format=json&mbid=1550f952-c91b-40d7-9b4d-d26a259ee932\n",
    "http://ws.audioscrobbler.com/2.0/?method=artist.getinfo&api_key=XXXXX&format=json&mbid=1b72331b-3a97-4981-a81c-eeee9c275d28\n",
    "http://ws.audioscrobbler.com/2.0/?method=artist.getinfo&api_key=XXXXX&format=json&mbid=5f1adfe1-4d07-4141-b181-79e5d379d539\n",
    "http://ws.audioscrobbler.com/2.0/?method=artist.getinfo&api_key=XXXXX&format=json&mbid=a95384b1-6aec-468c-ae0d-8c6daf87c4c2\n",
    "http://ws.audioscrobbler.com/2.0/?method=artist.getinfo&api_key=XXXXX&format=json&mbid=bc1b5c95-e6d6-46b5-957a-5e8908b02c1e```"
   ]
  },
  {
   "cell_type": "markdown",
   "metadata": {},
   "source": [
    "## OKAY HERE IS A LITTLE INFORMATION: Using our API urls\n",
    "\n",
    "This time instead of just *displaying* the URL, we're going to *request and process it*. **But first I'm going to teach you something.**\n",
    "\n",
    "When you're dealing with an API, you don't want to make a million requests, have bad code, and then need to do those million requests again. It's usually best to test your code with a few of the results first.\n",
    "\n",
    "So, if we have a list of numbers like this:"
   ]
  },
  {
   "cell_type": "code",
   "execution_count": 14,
   "metadata": {},
   "outputs": [
    {
     "data": {
      "text/plain": [
       "[4, 5, 6, 7]"
      ]
     },
     "execution_count": 14,
     "metadata": {},
     "output_type": "execute_result"
    }
   ],
   "source": [
    "numbers = [4, 5, 6, 7]\n",
    "numbers"
   ]
  },
  {
   "cell_type": "markdown",
   "metadata": {},
   "source": [
    "You can actually say to Python, **give me the first two**, and it will only give you the first two."
   ]
  },
  {
   "cell_type": "code",
   "execution_count": 15,
   "metadata": {},
   "outputs": [
    {
     "data": {
      "text/plain": [
       "[4, 5]"
      ]
     },
     "execution_count": 15,
     "metadata": {},
     "output_type": "execute_result"
    }
   ],
   "source": [
    "numbers[:2]"
   ]
  },
  {
   "cell_type": "markdown",
   "metadata": {},
   "source": [
    "The is **very convenient** with loopng with APIs, because instead of trying to use all FIFTY artists, you can just say \"hey, please try this out with 2 of them\" and you don't waste time."
   ]
  },
  {
   "cell_type": "markdown",
   "metadata": {},
   "source": [
    "## 10) Using the first three `mbids`, request the API urls and print the artist's name.\n",
    "\n",
    "You built the URLs in the last question, now it's time to use them! Use `requests` etc to grab the URL and get out the artist's name.\n",
    "\n",
    "- *Tip: The code is the same as last time you got an artist's name from their info page, it's just going to be inside of a loop*\n",
    "- *Tip: USE `PRINT` TO SEE WHAT YOU ARE LOOKING AT!!!!!*"
   ]
  },
  {
   "cell_type": "code",
   "execution_count": 16,
   "metadata": {},
   "outputs": [
    {
     "name": "stdout",
     "output_type": "stream",
     "text": [
      "Lil Wayne\n",
      "Lil Durk\n",
      "Lil Ugly Mane\n"
     ]
    }
   ],
   "source": [
    "for mbid in mbids[:3]:\n",
    "    url_get = f\"{endpoint}method={method}&api_key={key}&mbid={mbid}&format=json\"\n",
    "    response_get = requests.get(url_get)\n",
    "    data_mbid = response_get.json()\n",
    "    print(data_mbid['artist']['name'])"
   ]
  },
  {
   "cell_type": "markdown",
   "metadata": {},
   "source": [
    "## 11) Using the first three `mbids`, request the API urls and print the artist's name and their tags\n",
    "\n",
    "- *Tip: The code is the same as last time you got an artist's name from their info page, it's just going to be inside of a loop*\n",
    "- *Tip: It's a for loop in a for loop!*"
   ]
  },
  {
   "cell_type": "code",
   "execution_count": 17,
   "metadata": {},
   "outputs": [
    {
     "name": "stdout",
     "output_type": "stream",
     "text": [
      "Lil Wayne\n",
      "rap\n",
      "Hip-Hop\n",
      "hip hop\n",
      "Gangsta Rap\n",
      "Dirty South\n",
      "---\n",
      "Lil Durk\n",
      "rap\n",
      "Hip-Hop\n",
      "drill\n",
      "trap\n",
      "hip hop\n",
      "---\n",
      "Lil Ugly Mane\n",
      "Hip-Hop\n",
      "memphis rap\n",
      "Lo-Fi\n",
      "Gangsta Rap\n",
      "Trill Shit\n",
      "---\n"
     ]
    }
   ],
   "source": [
    "for mbid in mbids[:3]:\n",
    "    \n",
    "    url_get = f\"{endpoint}method={method}&api_key={key}&mbid={mbid}&format=json\"\n",
    "    response_get = requests.get(url_get)\n",
    "    data_mbid = response_get.json()\n",
    "    \n",
    "    print(data_mbid['artist']['name'])\n",
    "    for tag in data_mbid['artist']['tags']['tag']:\n",
    "        print(tag['name'])\n",
    "    print('---')"
   ]
  },
  {
   "cell_type": "markdown",
   "metadata": {},
   "source": [
    "## 12) Using the first ten mbids, print the artist's name and whether they're a rapper\n",
    "\n",
    "Only print their name ONCE and only print whether they are hip hop or not ONCE.\n",
    "\n",
    "- *Tip: Rap tags include hip hop, swag, crunk, rap, dirty south, and probably a bunch of other stuff! You can include as many categories as you'd like.*\n",
    "- *Tip: You can use `2 in [1, 2, 3]` to find out if `2` is in the list of `[1, 2, 3]`.*\n",
    "- *Tip: Every time you look at a new artist, you can say they are NOT a rapper. And once you find out one of their tags is hip hop or rap, then you can note that they're a rapper. Then once you're done looking at their tags, then you can say HEY this is a rapper, or HEY this is not a rapper.*"
   ]
  },
  {
   "cell_type": "code",
   "execution_count": 18,
   "metadata": {
    "scrolled": true
   },
   "outputs": [
    {
     "name": "stdout",
     "output_type": "stream",
     "text": [
      "Lil Wayne\n",
      "YES hip hop\n",
      "---\n",
      "Lil Durk\n",
      "YES hip hop\n",
      "---\n",
      "Lil Ugly Mane\n",
      "YES hip hop\n",
      "---\n",
      "Lil B\n",
      "YES hip hop\n",
      "---\n",
      "Lil Dicky\n",
      "YES hip hop\n",
      "---\n",
      "Lil Shine\n",
      "YES hip hop\n",
      "---\n",
      "Lil Jon & The East Side Boyz\n",
      "YES hip hop\n",
      "---\n",
      "Lil Jon\n",
      "YES hip hop\n",
      "---\n",
      "Lil Boosie\n",
      "YES hip hop\n",
      "---\n",
      "Lil Wyte\n",
      "YES hip hop\n",
      "---\n"
     ]
    }
   ],
   "source": [
    "rap_tags = ['Hip-Hop', 'swag', 'crunk', 'rap', 'dirty south', 'gangsta rap']\n",
    "\n",
    "for mbid in mbids[:10]:\n",
    "    \n",
    "    url_get = f\"{endpoint}method={method}&api_key={key}&mbid={mbid}&format=json\"\n",
    "    response_get = requests.get(url_get)\n",
    "    data_mbid = response_get.json()\n",
    "    \n",
    "    print(data_mbid['artist']['name'])\n",
    "    \n",
    "    # As a method, I will add +1 every time that the tag appears in my list of rap_tags.\n",
    "    # If no tag is found, the n value will stay at 0. I will then use 0 to identify all non-rappers.\n",
    "    \n",
    "    n = 0\n",
    "    \n",
    "    for tag in data_mbid['artist']['tags']['tag']:\n",
    "        if tag['name'] in rap_tags:\n",
    "            n = n + 1\n",
    "            \n",
    "    if n == 0:\n",
    "        print(\"NO hip hop\")\n",
    "    else:\n",
    "        print(\"YES hip hop\")\n",
    "   \n",
    "    print('---')"
   ]
  },
  {
   "cell_type": "markdown",
   "metadata": {},
   "source": [
    "Your results might look something like\n",
    "\n",
    "```ARTIST: Lily Allen\n",
    "NO hip hop\n",
    "ARTIST: Lil B\n",
    "YES hip hop\n",
    "ARTIST: Lilly Wood & The Prick\n",
    "NO hip hop\n",
    "ARTIST: Lil Ugly Mane\n",
    "YES hip hop\n",
    "ARTIST: Lil Jon\n",
    "YES hip hop\n",
    "ARTIST: Lil' Kim\n",
    "YES hip hop\n",
    "ARTIST: Lil Jon & The East Side Boyz\n",
    "YES hip hop\n",
    "```"
   ]
  },
  {
   "cell_type": "markdown",
   "metadata": {
    "collapsed": true
   },
   "source": [
    "## 13) What percent of \"lil\" results are rappers?"
   ]
  },
  {
   "cell_type": "code",
   "execution_count": 19,
   "metadata": {},
   "outputs": [
    {
     "name": "stdout",
     "output_type": "stream",
     "text": [
      "The 100 percent of \"lil\" results are rappers.\n"
     ]
    }
   ],
   "source": [
    "# I had a lot of headache with all those variable names that I will just copy-paste the previous code.\n",
    "\n",
    "rap_tags = ['Hip-Hop', 'swag', 'crunk', 'rap', 'dirty south', 'gangsta rap']\n",
    "\n",
    "non_rappers = 0\n",
    "rappers = 0\n",
    "\n",
    "for mbid in mbids:\n",
    "    \n",
    "    url_get = f\"{endpoint}method={method}&api_key={key}&mbid={mbid}&format=json\"\n",
    "    response_get = requests.get(url_get)\n",
    "    data_mbid = response_get.json()\n",
    "    \n",
    "#     print(data_mbid['artist']['name'])\n",
    "   \n",
    "    n = 0\n",
    "    \n",
    "    for tag in data_mbid['artist']['tags']['tag']:\n",
    "        if tag['name'] in rap_tags:\n",
    "            n = n + 1\n",
    "            \n",
    "#     if n == 0:\n",
    "#         print(\"NO hip hop\")\n",
    "#     else:\n",
    "#         print(\"YES hip hop\")         \n",
    "            \n",
    "    if n == 0:\n",
    "        non_rappers = non_rappers + 1\n",
    "    else:\n",
    "        rappers = rappers + 1\n",
    "\n",
    "rappers_percent = int(rappers/(non_rappers+rappers)*100)\n",
    "\n",
    "print(f'The {rappers_percent} percent of \"lil\" results are rappers.')\n",
    "\n",
    "# My percentage is probably higher because I looked for \"lil \" and not for \"lil\""
   ]
  },
  {
   "cell_type": "markdown",
   "metadata": {},
   "source": [
    "## 14) Seriously you are all-powerful now."
   ]
  },
  {
   "cell_type": "markdown",
   "metadata": {},
   "source": [
    "```                              ._                                 \n",
    "                              ,-'_ `-.                              \n",
    "                              ::\".^-. `.                            \n",
    "                              ||<    >. \\                           \n",
    "                              |: _, _| \\ \\                          \n",
    "                              : .'| '|  ;\\`.                        \n",
    "                              _\\ .`  '  | \\ \\                       \n",
    "                            .' `\\ *-'   ;  . \\                      \n",
    "                           '\\ `. `.    /\\   . \\                     \n",
    "                         _/  `. \\  \\  :  `.  `.;                    \n",
    "                       _/ \\  \\ `-._  /|  `  ._/                     \n",
    "                      / `. `. `.   /  :    ) \\                      \n",
    "                      `;._.  \\  _.'/   \\ .' .';                     \n",
    "                      /     .'`._.* /    .-' (                      \n",
    "                    .'`._  /    ; .' .-'     ;                      \n",
    "                    ; `._.:     |(    ._   _.'|                     \n",
    "                    `._   ;     ; `.-'        |                     \n",
    "                     |   / .-'./ .'  \\ .     /:                     \n",
    "                     |  +.'  \\ `-.   .\\ *--*' ;\\                    \n",
    "                     ;.' `. \\ `.    /` `.    /  .                   \n",
    "                    /.L-'\\_: L__..-*     \\   \".  \\                  \n",
    "                   :/ / .' `' ;   `-.     `.   \\  .                 \n",
    "                   / /_/     /              \\   ;  \\                \n",
    "              |  _/ /       /          \\     `./    .               \n",
    "            `   .  ;       /    .'      `-.   ;      \\              \n",
    "           --  /  /  --   ,    /           `\"' \\      .             \n",
    "          .   .  '       /   .'                 `.     \\            \n",
    "             /  /    `  /   /                  |  `-.   .           \n",
    "        --  .  '   \\   /                         `.  `-._\\          \n",
    "       .   /  /       : `*.                    :   `.    `-.        \n",
    "          .  '    `   |    \\                    \\    `-._   `-._    \n",
    "     --  /  /   \\     :     ;                    \\              |   \n",
    "   .    .  '           ;                          `.  \\      :  ;   \n",
    "       /  /   `       : \\    \\                      `. `._  /  /    \n",
    "  --  .  '  \\         |  `.   `.                      `-. `'  /\\    \n",
    "     /  .             ;         `-.              \\       `-..'  ;   \n",
    " `  .  '   `          |__                     |   `.         `-._.  \n",
    "_  :  /  \\              ;`-.                  :     `-.           ; \n",
    "    `\"  `               |   `.                 \\       `*-.__.-*\"' \\\n",
    "' /  . \\                ;_.  :`-._              `._                /\n",
    "                       /   `  . ; `\"*-._                       _.-` \n",
    "                     .'\"'    _;  `-.__                     _.-`     \n",
    "                     `-.__.-\"         `\"\"---...___...--**\"' |       \n",
    "                                                  `.____..--\" ```"
   ]
  }
 ],
 "metadata": {
  "kernelspec": {
   "display_name": "Python 3 (ipykernel)",
   "language": "python",
   "name": "python3"
  },
  "language_info": {
   "codemirror_mode": {
    "name": "ipython",
    "version": 3
   },
   "file_extension": ".py",
   "mimetype": "text/x-python",
   "name": "python",
   "nbconvert_exporter": "python",
   "pygments_lexer": "ipython3",
   "version": "3.10.11"
  }
 },
 "nbformat": 4,
 "nbformat_minor": 1
}
